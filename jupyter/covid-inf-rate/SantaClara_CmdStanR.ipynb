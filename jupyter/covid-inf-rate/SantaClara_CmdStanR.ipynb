{
  "nbformat": 4,
  "nbformat_minor": 0,
  "metadata": {
    "kernelspec": {
      "display_name": "R",
      "language": "R",
      "name": "ir"
    },
    "language_info": {
      "codemirror_mode": "r",
      "file_extension": ".r",
      "mimetype": "text/x-r-source",
      "name": "R",
      "pygments_lexer": "r",
      "version": "3.6.1"
    },
    "colab": {
      "name": "SantaClara_CmdStanR.ipynb",
      "provenance": [],
      "collapsed_sections": [],
      "include_colab_link": true
    }
  },
  "cells": [
    {
      "cell_type": "markdown",
      "metadata": {
        "id": "view-in-github",
        "colab_type": "text"
      },
      "source": [
        "<a href=\"https://colab.research.google.com/github/hyunchangyi/papers/blob/main/jupyter/covid-inf-rate/SantaClara_CmdStanR.ipynb\" target=\"_parent\"><img src=\"https://colab.research.google.com/assets/colab-badge.svg\" alt=\"Open In Colab\"/></a>"
      ]
    },
    {
      "cell_type": "markdown",
      "metadata": {
        "id": "_ibOho1Ft0TR"
      },
      "source": [
        "# Simple Bayesian analysis inference of coronavirus infection rate from the Stanford study in Santa Clara county\n",
        "\n",
        "This Google Colab Python notebook provides the models and data discussed here:  [Simple Bayesian analysis inference of coronavirus infection rate from the Stanford study in Santa Clara county](https://statmodeling.stat.columbia.edu/2020/05/01/simple-bayesian-analysis-inference-of-coronavirus-infection-rate-from-the-stanford-study-in-santa-clara-county/)\n",
        "\n",
        "It uses CmdStanR to compile and fit the model.\n",
        "\n",
        "#### First up, a little admin to get the latest CmdStanR and CmdStan installed on this instance."
      ]
    },
    {
      "cell_type": "code",
      "metadata": {
        "id": "Dc602vW9t0TS",
        "colab": {
          "base_uri": "https://localhost:8080/"
        },
        "outputId": "fee325fb-aeb9-4cd2-9146-b7c6f1c97dc3"
      },
      "source": [
        "# Preliminary setup\n",
        "install.packages('versions')\n",
        "library(versions)\n",
        "# Install package CmdStanR from GitHub\n",
        "library(devtools)\n",
        "if(!require(cmdstanr)){\n",
        "  devtools::install_github(\"stan-dev/cmdstanr\", dependencies=c(\"Depends\", \"Imports\"))\n",
        "  library(cmdstanr)\n",
        "}"
      ],
      "execution_count": 1,
      "outputs": [
        {
          "output_type": "stream",
          "name": "stderr",
          "text": [
            "Installing package into ‘/usr/local/lib/R/site-library’\n",
            "(as ‘lib’ is unspecified)\n",
            "\n",
            "Loading required package: usethis\n",
            "\n",
            "Loading required package: cmdstanr\n",
            "\n",
            "Warning message in library(package, lib.loc = lib.loc, character.only = TRUE, logical.return = TRUE, :\n",
            "“there is no package called ‘cmdstanr’”\n",
            "Downloading GitHub repo stan-dev/cmdstanr@HEAD\n",
            "\n"
          ]
        },
        {
          "output_type": "stream",
          "name": "stdout",
          "text": [
            "withr        (2.4.3 -> 2.5.0     ) [CRAN]\n",
            "numDeriv     (NA    -> 2016.8-1.1) [CRAN]\n",
            "rlang        (1.0.1 -> 1.0.2     ) [CRAN]\n",
            "matrixStats  (NA    -> 0.61.0    ) [CRAN]\n",
            "distribut... (NA    -> 0.3.0     ) [CRAN]\n",
            "tensorA      (NA    -> 0.36.2    ) [CRAN]\n",
            "checkmate    (NA    -> 2.0.0     ) [CRAN]\n",
            "abind        (NA    -> 1.4-5     ) [CRAN]\n",
            "posterior    (NA    -> 1.2.1     ) [CRAN]\n"
          ]
        },
        {
          "output_type": "stream",
          "name": "stderr",
          "text": [
            "Installing 9 packages: withr, numDeriv, rlang, matrixStats, distributional, tensorA, checkmate, abind, posterior\n",
            "\n",
            "Installing packages into ‘/usr/local/lib/R/site-library’\n",
            "(as ‘lib’ is unspecified)\n",
            "\n"
          ]
        },
        {
          "output_type": "stream",
          "name": "stdout",
          "text": [
            "* checking for file ‘/tmp/RtmpG3h2r5/remotes3d920951e/stan-dev-cmdstanr-ac5a448/DESCRIPTION’ ... OK\n",
            "* preparing ‘cmdstanr’:\n",
            "* checking DESCRIPTION meta-information ... OK\n",
            "* checking for LF line-endings in source and make files and shell scripts\n",
            "* checking for empty or unneeded directories\n",
            "Omitted ‘LazyData’ from DESCRIPTION\n",
            "  NB: this package now depends on R (>= 3.5.0)\n",
            "  WARNING: Added dependency on R >= 3.5.0 because serialized objects in\n",
            "  serialize/load version 3 cannot be read in older versions of R.\n",
            "  File(s) containing such objects:\n",
            "    ‘cmdstanr/tests/testthat/answers/model-code-output.rds’\n",
            "* building ‘cmdstanr_0.4.0.9001.tar.gz’\n",
            "\n"
          ]
        },
        {
          "output_type": "stream",
          "name": "stderr",
          "text": [
            "Installing package into ‘/usr/local/lib/R/site-library’\n",
            "(as ‘lib’ is unspecified)\n",
            "\n",
            "This is cmdstanr version 0.4.0.9001\n",
            "\n",
            "- CmdStanR documentation and vignettes: mc-stan.org/cmdstanr\n",
            "\n",
            "- Use set_cmdstan_path() to set the path to CmdStan\n",
            "\n",
            "- Use install_cmdstan() to install CmdStan\n",
            "\n"
          ]
        }
      ]
    },
    {
      "cell_type": "code",
      "metadata": {
        "id": "UFj_77CJv7zu",
        "colab": {
          "base_uri": "https://localhost:8080/",
          "height": 34
        },
        "outputId": "c4e4cdf8-9677-4011-ab1e-d0230132a4fb"
      },
      "source": [
        "# Install CmdStan binaries\n",
        "if (!file.exists(\"cmdstan-2.23.0.tar.gz\")) {\n",
        "  system(\"wget https://github.com/stan-dev/cmdstan/releases/download/v2.23.0/colab-cmdstan-2.23.0.tar.gz\", intern=T)\n",
        "  system(\"tar zxf colab-cmdstan-2.23.0.tar.gz\", intern=T)\n",
        "}\n",
        "list.files(\"cmdstan-2.23.0\")"
      ],
      "execution_count": 2,
      "outputs": [
        {
          "output_type": "display_data",
          "data": {
            "text/html": [
              ""
            ],
            "text/markdown": "",
            "text/latex": "",
            "text/plain": [
              "character(0)"
            ]
          },
          "metadata": {}
        },
        {
          "output_type": "display_data",
          "data": {
            "text/html": [
              "<style>\n",
              ".list-inline {list-style: none; margin:0; padding: 0}\n",
              ".list-inline>li {display: inline-block}\n",
              ".list-inline>li:not(:last-child)::after {content: \"\\00b7\"; padding: 0 .5ex}\n",
              "</style>\n",
              "<ol class=list-inline><li>'bin'</li><li>'examples'</li><li>'install-tbb.bat'</li><li>'Jenkinsfile'</li><li>'lib'</li><li>'LICENSE'</li><li>'make'</li><li>'makefile'</li><li>'README.md'</li><li>'runCmdStanTests.py'</li><li>'src'</li><li>'stan'</li><li>'test-all.sh'</li></ol>\n"
            ],
            "text/markdown": "1. 'bin'\n2. 'examples'\n3. 'install-tbb.bat'\n4. 'Jenkinsfile'\n5. 'lib'\n6. 'LICENSE'\n7. 'make'\n8. 'makefile'\n9. 'README.md'\n10. 'runCmdStanTests.py'\n11. 'src'\n12. 'stan'\n13. 'test-all.sh'\n\n\n",
            "text/latex": "\\begin{enumerate*}\n\\item 'bin'\n\\item 'examples'\n\\item 'install-tbb.bat'\n\\item 'Jenkinsfile'\n\\item 'lib'\n\\item 'LICENSE'\n\\item 'make'\n\\item 'makefile'\n\\item 'README.md'\n\\item 'runCmdStanTests.py'\n\\item 'src'\n\\item 'stan'\n\\item 'test-all.sh'\n\\end{enumerate*}\n",
            "text/plain": [
              " [1] \"bin\"                \"examples\"           \"install-tbb.bat\"   \n",
              " [4] \"Jenkinsfile\"        \"lib\"                \"LICENSE\"           \n",
              " [7] \"make\"               \"makefile\"           \"README.md\"         \n",
              "[10] \"runCmdStanTests.py\" \"src\"                \"stan\"              \n",
              "[13] \"test-all.sh\"       "
            ]
          },
          "metadata": {}
        }
      ]
    },
    {
      "cell_type": "code",
      "metadata": {
        "id": "qjID0rxfw-gD",
        "colab": {
          "base_uri": "https://localhost:8080/"
        },
        "outputId": "ce763deb-1873-465b-85d7-5a0ed04a85df"
      },
      "source": [
        "# Set cmdstan_path to CmdStan installation\n",
        "set_cmdstan_path(\"cmdstan-2.23.0\")"
      ],
      "execution_count": 3,
      "outputs": [
        {
          "output_type": "stream",
          "name": "stderr",
          "text": [
            "CmdStan path set to: /content/cmdstan-2.23.0\n",
            "\n"
          ]
        }
      ]
    },
    {
      "cell_type": "code",
      "metadata": {
        "id": "iHFSUnANzd-L"
      },
      "source": [
        "# helper function\n",
        "print_file <- function(file, nlines=-1L) {\n",
        "  cat(paste(readLines(file, n=nlines), \"\\n\", sep=\"\"), sep=\"\")\n",
        "}"
      ],
      "execution_count": 4,
      "outputs": []
    },
    {
      "cell_type": "markdown",
      "metadata": {
        "id": "TDLyjppPzomw"
      },
      "source": [
        "#### Upload models and data from GitHub\n",
        "\n",
        "The models and data are available on the Stan GitHub repo https://github.com/stan-dev/example-models/tree/master/jupyter/covid-inf-rate"
      ]
    },
    {
      "cell_type": "code",
      "metadata": {
        "id": "mdTCx8ZpzhpZ",
        "colab": {
          "base_uri": "https://localhost:8080/",
          "height": 34
        },
        "outputId": "b202afd1-8ae5-40a1-e68c-d627cc7e3109"
      },
      "source": [
        "system(\"wget https://raw.githubusercontent.com/stan-dev/example-models/master/jupyter/covid-inf-rate/data/santa_clara_all.data.json\", intern=T)\n",
        "system(\"wget https://raw.githubusercontent.com/stan-dev/example-models/master/jupyter/covid-inf-rate/data/santa_clara_apr_11.data.json\", intern=T)\n",
        "system(\"wget https://raw.githubusercontent.com/stan-dev/example-models/master/jupyter/covid-inf-rate/data/santa_clara_apr_27.data.json\", intern=T)\n",
        "system(\"wget https://raw.githubusercontent.com/stan-dev/example-models/master/jupyter/covid-inf-rate/stan/pool_sens_spec.stan\", intern=T)\n",
        "system(\"wget https://raw.githubusercontent.com/stan-dev/example-models/master/jupyter/covid-inf-rate/stan/hier_sens_spec.stan\", intern=T)\n",
        "system(\"wget https://raw.githubusercontent.com/stan-dev/example-models/master/jupyter/covid-inf-rate/stan/hier_sens_spec_offset_mult.stan\", intern=T)\n",
        "list.files()\n",
        "\n"
      ],
      "execution_count": 5,
      "outputs": [
        {
          "output_type": "display_data",
          "data": {
            "text/html": [
              ""
            ],
            "text/markdown": "",
            "text/latex": "",
            "text/plain": [
              "character(0)"
            ]
          },
          "metadata": {}
        },
        {
          "output_type": "display_data",
          "data": {
            "text/html": [
              ""
            ],
            "text/markdown": "",
            "text/latex": "",
            "text/plain": [
              "character(0)"
            ]
          },
          "metadata": {}
        },
        {
          "output_type": "display_data",
          "data": {
            "text/html": [
              ""
            ],
            "text/markdown": "",
            "text/latex": "",
            "text/plain": [
              "character(0)"
            ]
          },
          "metadata": {}
        },
        {
          "output_type": "display_data",
          "data": {
            "text/html": [
              ""
            ],
            "text/markdown": "",
            "text/latex": "",
            "text/plain": [
              "character(0)"
            ]
          },
          "metadata": {}
        },
        {
          "output_type": "display_data",
          "data": {
            "text/html": [
              ""
            ],
            "text/markdown": "",
            "text/latex": "",
            "text/plain": [
              "character(0)"
            ]
          },
          "metadata": {}
        },
        {
          "output_type": "display_data",
          "data": {
            "text/html": [
              ""
            ],
            "text/markdown": "",
            "text/latex": "",
            "text/plain": [
              "character(0)"
            ]
          },
          "metadata": {}
        },
        {
          "output_type": "display_data",
          "data": {
            "text/html": [
              "<style>\n",
              ".list-inline {list-style: none; margin:0; padding: 0}\n",
              ".list-inline>li {display: inline-block}\n",
              ".list-inline>li:not(:last-child)::after {content: \"\\00b7\"; padding: 0 .5ex}\n",
              "</style>\n",
              "<ol class=list-inline><li>'cmdstan-2.23.0'</li><li>'colab-cmdstan-2.23.0.tar.gz'</li><li>'hier_sens_spec_offset_mult.stan'</li><li>'hier_sens_spec.stan'</li><li>'pool_sens_spec.stan'</li><li>'sample_data'</li><li>'santa_clara_all.data.json'</li><li>'santa_clara_apr_11.data.json'</li><li>'santa_clara_apr_27.data.json'</li></ol>\n"
            ],
            "text/markdown": "1. 'cmdstan-2.23.0'\n2. 'colab-cmdstan-2.23.0.tar.gz'\n3. 'hier_sens_spec_offset_mult.stan'\n4. 'hier_sens_spec.stan'\n5. 'pool_sens_spec.stan'\n6. 'sample_data'\n7. 'santa_clara_all.data.json'\n8. 'santa_clara_apr_11.data.json'\n9. 'santa_clara_apr_27.data.json'\n\n\n",
            "text/latex": "\\begin{enumerate*}\n\\item 'cmdstan-2.23.0'\n\\item 'colab-cmdstan-2.23.0.tar.gz'\n\\item 'hier\\_sens\\_spec\\_offset\\_mult.stan'\n\\item 'hier\\_sens\\_spec.stan'\n\\item 'pool\\_sens\\_spec.stan'\n\\item 'sample\\_data'\n\\item 'santa\\_clara\\_all.data.json'\n\\item 'santa\\_clara\\_apr\\_11.data.json'\n\\item 'santa\\_clara\\_apr\\_27.data.json'\n\\end{enumerate*}\n",
            "text/plain": [
              "[1] \"cmdstan-2.23.0\"                  \"colab-cmdstan-2.23.0.tar.gz\"    \n",
              "[3] \"hier_sens_spec_offset_mult.stan\" \"hier_sens_spec.stan\"            \n",
              "[5] \"pool_sens_spec.stan\"             \"sample_data\"                    \n",
              "[7] \"santa_clara_all.data.json\"       \"santa_clara_apr_11.data.json\"   \n",
              "[9] \"santa_clara_apr_27.data.json\"   "
            ]
          },
          "metadata": {}
        }
      ]
    },
    {
      "cell_type": "markdown",
      "metadata": {
        "id": "N2vDhMyh1Ns6"
      },
      "source": [
        "In the Santa Clara study, of the 3330 people tested (`n_sample`), 50 test results were positive (`y_sample`).  The first version of the paper was released on April 11th, and used specificity data from two studies and sensitivity data from two other studies.\n"
      ]
    },
    {
      "cell_type": "code",
      "metadata": {
        "id": "LY1vLGJ103II",
        "colab": {
          "base_uri": "https://localhost:8080/"
        },
        "outputId": "5c5d8656-fc46-4cdd-88f4-43c02e4eb935"
      },
      "source": [
        "print_file(\"santa_clara_apr_11.data.json\")"
      ],
      "execution_count": 6,
      "outputs": [
        {
          "output_type": "stream",
          "name": "stdout",
          "text": [
            "{\n",
            "    \"y_sample\" : 50,\n",
            "    \"n_sample\" : 3330,\n",
            "    \"y_spec\" : 399,\n",
            "    \"n_spec\" : 401,\n",
            "    \"y_sens\" : 105,\n",
            "    \"n_sens\" : 122\n",
            "}\n"
          ]
        }
      ]
    },
    {
      "cell_type": "markdown",
      "metadata": {
        "id": "3qEBVT6w1YXm"
      },
      "source": [
        "### Simple Model\n",
        "\n",
        "The first Stan model in this blogpost is called \"santaclara.stan\".  It a complete pooling model, therefore we'll call it \"pool_sens_spec.stan\"."
      ]
    },
    {
      "cell_type": "code",
      "metadata": {
        "id": "fv40czp61ClL",
        "colab": {
          "base_uri": "https://localhost:8080/"
        },
        "outputId": "37b8778c-8a3b-490e-dc80-d78f301a6fda"
      },
      "source": [
        "print_file(\"pool_sens_spec.stan\")"
      ],
      "execution_count": 7,
      "outputs": [
        {
          "output_type": "stream",
          "name": "stdout",
          "text": [
            "/**\n",
            " * meta-analysis over studies of disease infection rate \n",
            " * for variation in sensitivity and specificity\n",
            " * pool data from all studies\n",
            " */\n",
            "data {\n",
            "  int y_sample;\n",
            "  int n_sample;\n",
            "  int y_spec;\n",
            "  int n_spec;\n",
            "  int y_sens;\n",
            "  int n_sens;\n",
            "}\n",
            "parameters {\n",
            "  real<lower=0, upper=1> p;\n",
            "  real<lower=0, upper=1> spec;\n",
            "  real<lower=0, upper=1> sens;\n",
            "}\n",
            "model {\n",
            "  real p_sample;\n",
            "  p_sample = p * sens + (1 - p) * (1 - spec);\n",
            "  y_sample ~ binomial(n_sample, p_sample);\n",
            "  y_spec ~ binomial(n_spec, spec);\n",
            "  y_sens ~ binomial(n_sens, sens);\n",
            "}\n"
          ]
        }
      ]
    },
    {
      "cell_type": "markdown",
      "metadata": {
        "id": "7ME0UaFv1nS4"
      },
      "source": [
        "We use CmdStanR to compile and fit the model to the data."
      ]
    },
    {
      "cell_type": "code",
      "metadata": {
        "id": "t3kJvxDl1etn",
        "colab": {
          "base_uri": "https://localhost:8080/"
        },
        "outputId": "bbba0105-9230-45d6-977b-36cc7d2bccf9"
      },
      "source": [
        "pool_model <- cmdstan_model(stan_file='pool_sens_spec.stan')\n",
        "apr_11_fit <- pool_model$sample(data='santa_clara_apr_11.data.json')\n"
      ],
      "execution_count": 8,
      "outputs": [
        {
          "output_type": "stream",
          "name": "stdout",
          "text": [
            "Running MCMC with 4 sequential chains...\n",
            "\n",
            "Chain 1 Iteration:    1 / 2000 [  0%]  (Warmup) \n",
            "Chain 1 Iteration:  100 / 2000 [  5%]  (Warmup) \n",
            "Chain 1 Iteration:  200 / 2000 [ 10%]  (Warmup) \n",
            "Chain 1 Iteration:  300 / 2000 [ 15%]  (Warmup) \n",
            "Chain 1 Iteration:  400 / 2000 [ 20%]  (Warmup) \n",
            "Chain 1 Iteration:  500 / 2000 [ 25%]  (Warmup) \n",
            "Chain 1 Iteration:  600 / 2000 [ 30%]  (Warmup) \n",
            "Chain 1 Iteration:  700 / 2000 [ 35%]  (Warmup) \n",
            "Chain 1 Iteration:  800 / 2000 [ 40%]  (Warmup) \n",
            "Chain 1 Iteration:  900 / 2000 [ 45%]  (Warmup) \n",
            "Chain 1 Iteration: 1000 / 2000 [ 50%]  (Warmup) \n",
            "Chain 1 Iteration: 1001 / 2000 [ 50%]  (Sampling) \n",
            "Chain 1 Iteration: 1100 / 2000 [ 55%]  (Sampling) \n",
            "Chain 1 Iteration: 1200 / 2000 [ 60%]  (Sampling) \n",
            "Chain 1 Iteration: 1300 / 2000 [ 65%]  (Sampling) \n",
            "Chain 1 Iteration: 1400 / 2000 [ 70%]  (Sampling) \n",
            "Chain 1 Iteration: 1500 / 2000 [ 75%]  (Sampling) \n",
            "Chain 1 Iteration: 1600 / 2000 [ 80%]  (Sampling) \n",
            "Chain 1 Iteration: 1700 / 2000 [ 85%]  (Sampling) \n",
            "Chain 1 Iteration: 1800 / 2000 [ 90%]  (Sampling) \n",
            "Chain 1 Iteration: 1900 / 2000 [ 95%]  (Sampling) \n",
            "Chain 1 Iteration: 2000 / 2000 [100%]  (Sampling) \n",
            "Chain 1 finished in 0.1 seconds.\n",
            "Chain 2 Iteration:    1 / 2000 [  0%]  (Warmup) \n",
            "Chain 2 Iteration:  100 / 2000 [  5%]  (Warmup) \n",
            "Chain 2 Iteration:  200 / 2000 [ 10%]  (Warmup) \n",
            "Chain 2 Iteration:  300 / 2000 [ 15%]  (Warmup) \n",
            "Chain 2 Iteration:  400 / 2000 [ 20%]  (Warmup) \n",
            "Chain 2 Iteration:  500 / 2000 [ 25%]  (Warmup) \n",
            "Chain 2 Iteration:  600 / 2000 [ 30%]  (Warmup) \n",
            "Chain 2 Iteration:  700 / 2000 [ 35%]  (Warmup) \n",
            "Chain 2 Iteration:  800 / 2000 [ 40%]  (Warmup) \n",
            "Chain 2 Iteration:  900 / 2000 [ 45%]  (Warmup) \n",
            "Chain 2 Iteration: 1000 / 2000 [ 50%]  (Warmup) \n",
            "Chain 2 Iteration: 1001 / 2000 [ 50%]  (Sampling) \n",
            "Chain 2 Iteration: 1100 / 2000 [ 55%]  (Sampling) \n",
            "Chain 2 Iteration: 1200 / 2000 [ 60%]  (Sampling) \n",
            "Chain 2 Iteration: 1300 / 2000 [ 65%]  (Sampling) \n",
            "Chain 2 Iteration: 1400 / 2000 [ 70%]  (Sampling) \n",
            "Chain 2 Iteration: 1500 / 2000 [ 75%]  (Sampling) \n",
            "Chain 2 Iteration: 1600 / 2000 [ 80%]  (Sampling) \n",
            "Chain 2 Iteration: 1700 / 2000 [ 85%]  (Sampling) \n",
            "Chain 2 Iteration: 1800 / 2000 [ 90%]  (Sampling) \n",
            "Chain 2 Iteration: 1900 / 2000 [ 95%]  (Sampling) \n",
            "Chain 2 Iteration: 2000 / 2000 [100%]  (Sampling) \n",
            "Chain 2 finished in 0.1 seconds.\n",
            "Chain 3 Iteration:    1 / 2000 [  0%]  (Warmup) \n",
            "Chain 3 Iteration:  100 / 2000 [  5%]  (Warmup) \n",
            "Chain 3 Iteration:  200 / 2000 [ 10%]  (Warmup) \n",
            "Chain 3 Iteration:  300 / 2000 [ 15%]  (Warmup) \n",
            "Chain 3 Iteration:  400 / 2000 [ 20%]  (Warmup) \n",
            "Chain 3 Iteration:  500 / 2000 [ 25%]  (Warmup) \n",
            "Chain 3 Iteration:  600 / 2000 [ 30%]  (Warmup) \n",
            "Chain 3 Iteration:  700 / 2000 [ 35%]  (Warmup) \n",
            "Chain 3 Iteration:  800 / 2000 [ 40%]  (Warmup) \n",
            "Chain 3 Iteration:  900 / 2000 [ 45%]  (Warmup) \n",
            "Chain 3 Iteration: 1000 / 2000 [ 50%]  (Warmup) \n",
            "Chain 3 Iteration: 1001 / 2000 [ 50%]  (Sampling) \n",
            "Chain 3 Iteration: 1100 / 2000 [ 55%]  (Sampling) \n",
            "Chain 3 Iteration: 1200 / 2000 [ 60%]  (Sampling) \n",
            "Chain 3 Iteration: 1300 / 2000 [ 65%]  (Sampling) \n",
            "Chain 3 Iteration: 1400 / 2000 [ 70%]  (Sampling) \n",
            "Chain 3 Iteration: 1500 / 2000 [ 75%]  (Sampling) \n",
            "Chain 3 Iteration: 1600 / 2000 [ 80%]  (Sampling) \n",
            "Chain 3 Iteration: 1700 / 2000 [ 85%]  (Sampling) \n",
            "Chain 3 Iteration: 1800 / 2000 [ 90%]  (Sampling) \n",
            "Chain 3 Iteration: 1900 / 2000 [ 95%]  (Sampling) \n",
            "Chain 3 Iteration: 2000 / 2000 [100%]  (Sampling) \n",
            "Chain 3 finished in 0.1 seconds.\n",
            "Chain 4 Iteration:    1 / 2000 [  0%]  (Warmup) \n",
            "Chain 4 Iteration:  100 / 2000 [  5%]  (Warmup) \n",
            "Chain 4 Iteration:  200 / 2000 [ 10%]  (Warmup) \n",
            "Chain 4 Iteration:  300 / 2000 [ 15%]  (Warmup) \n",
            "Chain 4 Iteration:  400 / 2000 [ 20%]  (Warmup) \n",
            "Chain 4 Iteration:  500 / 2000 [ 25%]  (Warmup) \n",
            "Chain 4 Iteration:  600 / 2000 [ 30%]  (Warmup) \n",
            "Chain 4 Iteration:  700 / 2000 [ 35%]  (Warmup) \n",
            "Chain 4 Iteration:  800 / 2000 [ 40%]  (Warmup) \n",
            "Chain 4 Iteration:  900 / 2000 [ 45%]  (Warmup) \n",
            "Chain 4 Iteration: 1000 / 2000 [ 50%]  (Warmup) \n",
            "Chain 4 Iteration: 1001 / 2000 [ 50%]  (Sampling) \n",
            "Chain 4 Iteration: 1100 / 2000 [ 55%]  (Sampling) \n",
            "Chain 4 Iteration: 1200 / 2000 [ 60%]  (Sampling) \n",
            "Chain 4 Iteration: 1300 / 2000 [ 65%]  (Sampling) \n",
            "Chain 4 Iteration: 1400 / 2000 [ 70%]  (Sampling) \n",
            "Chain 4 Iteration: 1500 / 2000 [ 75%]  (Sampling) \n",
            "Chain 4 Iteration: 1600 / 2000 [ 80%]  (Sampling) \n",
            "Chain 4 Iteration: 1700 / 2000 [ 85%]  (Sampling) \n",
            "Chain 4 Iteration: 1800 / 2000 [ 90%]  (Sampling) \n",
            "Chain 4 Iteration: 1900 / 2000 [ 95%]  (Sampling) \n",
            "Chain 4 Iteration: 2000 / 2000 [100%]  (Sampling) \n",
            "Chain 4 finished in 0.1 seconds.\n",
            "\n",
            "All 4 chains finished successfully.\n",
            "Mean chain execution time: 0.1 seconds.\n",
            "Total execution time: 0.8 seconds.\n",
            "\n"
          ]
        }
      ]
    },
    {
      "cell_type": "code",
      "metadata": {
        "id": "v8KvsQcr2UJd",
        "colab": {
          "base_uri": "https://localhost:8080/",
          "height": 221
        },
        "outputId": "e2d7eac8-483c-4a7e-fa79-14779c5c55e2"
      },
      "source": [
        "options(digits = 2)\n",
        "apr_11_fit$summary()\n"
      ],
      "execution_count": 9,
      "outputs": [
        {
          "output_type": "display_data",
          "data": {
            "text/html": [
              "<table class=\"dataframe\">\n",
              "<caption>A draws_summary: 4 × 10</caption>\n",
              "<thead>\n",
              "\t<tr><th scope=col>variable</th><th scope=col>mean</th><th scope=col>median</th><th scope=col>sd</th><th scope=col>mad</th><th scope=col>q5</th><th scope=col>q95</th><th scope=col>rhat</th><th scope=col>ess_bulk</th><th scope=col>ess_tail</th></tr>\n",
              "\t<tr><th scope=col>&lt;chr&gt;</th><th scope=col>&lt;dbl&gt;</th><th scope=col>&lt;dbl&gt;</th><th scope=col>&lt;dbl&gt;</th><th scope=col>&lt;dbl&gt;</th><th scope=col>&lt;dbl&gt;</th><th scope=col>&lt;dbl&gt;</th><th scope=col>&lt;dbl&gt;</th><th scope=col>&lt;dbl&gt;</th><th scope=col>&lt;dbl&gt;</th></tr>\n",
              "</thead>\n",
              "<tbody>\n",
              "\t<tr><td>lp__</td><td>-334.80</td><td>-334.454</td><td>1.2931</td><td>1.0571</td><td>-3.4e+02</td><td>-333.397</td><td>1</td><td>1411</td><td>1695</td></tr>\n",
              "\t<tr><td>p   </td><td>   0.01</td><td>   0.011</td><td>0.0045</td><td>0.0047</td><td> 2.4e-03</td><td>   0.018</td><td>1</td><td>1554</td><td>1397</td></tr>\n",
              "\t<tr><td>spec</td><td>   0.99</td><td>   0.994</td><td>0.0033</td><td>0.0035</td><td> 9.9e-01</td><td>   0.998</td><td>1</td><td>1435</td><td>1787</td></tr>\n",
              "\t<tr><td>sens</td><td>   0.85</td><td>   0.855</td><td>0.0322</td><td>0.0321</td><td> 8.0e-01</td><td>   0.901</td><td>1</td><td>2089</td><td>2170</td></tr>\n",
              "</tbody>\n",
              "</table>\n"
            ],
            "text/markdown": "\nA draws_summary: 4 × 10\n\n| variable &lt;chr&gt; | mean &lt;dbl&gt; | median &lt;dbl&gt; | sd &lt;dbl&gt; | mad &lt;dbl&gt; | q5 &lt;dbl&gt; | q95 &lt;dbl&gt; | rhat &lt;dbl&gt; | ess_bulk &lt;dbl&gt; | ess_tail &lt;dbl&gt; |\n|---|---|---|---|---|---|---|---|---|---|\n| lp__ | -334.80 | -334.454 | 1.2931 | 1.0571 | -3.4e+02 | -333.397 | 1 | 1411 | 1695 |\n| p    |    0.01 |    0.011 | 0.0045 | 0.0047 |  2.4e-03 |    0.018 | 1 | 1554 | 1397 |\n| spec |    0.99 |    0.994 | 0.0033 | 0.0035 |  9.9e-01 |    0.998 | 1 | 1435 | 1787 |\n| sens |    0.85 |    0.855 | 0.0322 | 0.0321 |  8.0e-01 |    0.901 | 1 | 2089 | 2170 |\n\n",
            "text/latex": "A draws\\_summary: 4 × 10\n\\begin{tabular}{llllllllll}\n variable & mean & median & sd & mad & q5 & q95 & rhat & ess\\_bulk & ess\\_tail\\\\\n <chr> & <dbl> & <dbl> & <dbl> & <dbl> & <dbl> & <dbl> & <dbl> & <dbl> & <dbl>\\\\\n\\hline\n\t lp\\_\\_ & -334.80 & -334.454 & 1.2931 & 1.0571 & -3.4e+02 & -333.397 & 1 & 1411 & 1695\\\\\n\t p    &    0.01 &    0.011 & 0.0045 & 0.0047 &  2.4e-03 &    0.018 & 1 & 1554 & 1397\\\\\n\t spec &    0.99 &    0.994 & 0.0033 & 0.0035 &  9.9e-01 &    0.998 & 1 & 1435 & 1787\\\\\n\t sens &    0.85 &    0.855 & 0.0322 & 0.0321 &  8.0e-01 &    0.901 & 1 & 2089 & 2170\\\\\n\\end{tabular}\n",
            "text/plain": [
              "  variable mean    median   sd     mad    q5       q95      rhat ess_bulk\n",
              "1 lp__     -334.80 -334.454 1.2931 1.0571 -3.4e+02 -333.397 1    1411    \n",
              "2 p           0.01    0.011 0.0045 0.0047  2.4e-03    0.018 1    1554    \n",
              "3 spec        0.99    0.994 0.0033 0.0035  9.9e-01    0.998 1    1435    \n",
              "4 sens        0.85    0.855 0.0322 0.0321  8.0e-01    0.901 1    2089    \n",
              "  ess_tail\n",
              "1 1695    \n",
              "2 1397    \n",
              "3 1787    \n",
              "4 2170    "
            ]
          },
          "metadata": {}
        }
      ]
    },
    {
      "cell_type": "markdown",
      "metadata": {
        "id": "6CC8WjYB5kdL"
      },
      "source": [
        "Given the April 11th dataset, the central 95% interval is [0.002 - 0.017], thus the data are consistent with an underlying infection rate of between 0 and 2%."
      ]
    },
    {
      "cell_type": "code",
      "metadata": {
        "id": "ZZOMULWq2khz",
        "colab": {
          "base_uri": "https://localhost:8080/",
          "height": 437
        },
        "outputId": "e49ccc9a-0a07-4644-e35c-8221f3673786"
      },
      "source": [
        "apr_11_draws <- apr_11_fit$draws()\n",
        "hist(apr_11_draws[,,\"p\"])"
      ],
      "execution_count": 10,
      "outputs": [
        {
          "output_type": "display_data",
          "data": {
            "text/plain": [
              "Plot with title “Histogram of apr_11_draws[, , \"p\"]”"
            ],
            "image/png": "[encoded data removed]"
          },
          "metadata": {
            "image/png": {
              "width": 420,
              "height": 420
            }
          }
        }
      ]
    },
    {
      "cell_type": "markdown",
      "metadata": {
        "id": "dgUs9FHJ7Guo"
      },
      "source": [
        "We repeat this procedure with the data from the April 27th version of the study, which has specificity data from 13 studies and sensitivity data from 3 studies.  Again, we pool the results from all studies."
      ]
    },
    {
      "cell_type": "code",
      "metadata": {
        "id": "Qut29QQ86sRd",
        "colab": {
          "base_uri": "https://localhost:8080/"
        },
        "outputId": "78f18708-7455-4172-bb38-460019ee50e6"
      },
      "source": [
        "apr_27_fit <- pool_model$sample(data='santa_clara_apr_27.data.json')\n"
      ],
      "execution_count": 11,
      "outputs": [
        {
          "output_type": "stream",
          "name": "stdout",
          "text": [
            "Running MCMC with 4 sequential chains...\n",
            "\n",
            "Chain 1 Iteration:    1 / 2000 [  0%]  (Warmup) \n",
            "Chain 1 Iteration:  100 / 2000 [  5%]  (Warmup) \n",
            "Chain 1 Iteration:  200 / 2000 [ 10%]  (Warmup) \n",
            "Chain 1 Iteration:  300 / 2000 [ 15%]  (Warmup) \n",
            "Chain 1 Iteration:  400 / 2000 [ 20%]  (Warmup) \n",
            "Chain 1 Iteration:  500 / 2000 [ 25%]  (Warmup) \n",
            "Chain 1 Iteration:  600 / 2000 [ 30%]  (Warmup) \n",
            "Chain 1 Iteration:  700 / 2000 [ 35%]  (Warmup) \n",
            "Chain 1 Iteration:  800 / 2000 [ 40%]  (Warmup) \n",
            "Chain 1 Iteration:  900 / 2000 [ 45%]  (Warmup) \n",
            "Chain 1 Iteration: 1000 / 2000 [ 50%]  (Warmup) \n",
            "Chain 1 Iteration: 1001 / 2000 [ 50%]  (Sampling) \n",
            "Chain 1 Iteration: 1100 / 2000 [ 55%]  (Sampling) \n",
            "Chain 1 Iteration: 1200 / 2000 [ 60%]  (Sampling) \n",
            "Chain 1 Iteration: 1300 / 2000 [ 65%]  (Sampling) \n",
            "Chain 1 Iteration: 1400 / 2000 [ 70%]  (Sampling) \n",
            "Chain 1 Iteration: 1500 / 2000 [ 75%]  (Sampling) \n",
            "Chain 1 Iteration: 1600 / 2000 [ 80%]  (Sampling) \n",
            "Chain 1 Iteration: 1700 / 2000 [ 85%]  (Sampling) \n",
            "Chain 1 Iteration: 1800 / 2000 [ 90%]  (Sampling) \n",
            "Chain 1 Iteration: 1900 / 2000 [ 95%]  (Sampling) \n",
            "Chain 1 Iteration: 2000 / 2000 [100%]  (Sampling) \n",
            "Chain 1 finished in 0.0 seconds.\n",
            "Chain 2 Iteration:    1 / 2000 [  0%]  (Warmup) \n",
            "Chain 2 Iteration:  100 / 2000 [  5%]  (Warmup) \n",
            "Chain 2 Iteration:  200 / 2000 [ 10%]  (Warmup) \n",
            "Chain 2 Iteration:  300 / 2000 [ 15%]  (Warmup) \n",
            "Chain 2 Iteration:  400 / 2000 [ 20%]  (Warmup) \n",
            "Chain 2 Iteration:  500 / 2000 [ 25%]  (Warmup) \n",
            "Chain 2 Iteration:  600 / 2000 [ 30%]  (Warmup) \n",
            "Chain 2 Iteration:  700 / 2000 [ 35%]  (Warmup) \n",
            "Chain 2 Iteration:  800 / 2000 [ 40%]  (Warmup) \n",
            "Chain 2 Iteration:  900 / 2000 [ 45%]  (Warmup) \n",
            "Chain 2 Iteration: 1000 / 2000 [ 50%]  (Warmup) \n",
            "Chain 2 Iteration: 1001 / 2000 [ 50%]  (Sampling) \n",
            "Chain 2 Iteration: 1100 / 2000 [ 55%]  (Sampling) \n",
            "Chain 2 Iteration: 1200 / 2000 [ 60%]  (Sampling) \n",
            "Chain 2 Iteration: 1300 / 2000 [ 65%]  (Sampling) \n",
            "Chain 2 Iteration: 1400 / 2000 [ 70%]  (Sampling) \n",
            "Chain 2 Iteration: 1500 / 2000 [ 75%]  (Sampling) \n",
            "Chain 2 Iteration: 1600 / 2000 [ 80%]  (Sampling) \n",
            "Chain 2 Iteration: 1700 / 2000 [ 85%]  (Sampling) \n",
            "Chain 2 Iteration: 1800 / 2000 [ 90%]  (Sampling) \n",
            "Chain 2 Iteration: 1900 / 2000 [ 95%]  (Sampling) \n",
            "Chain 2 Iteration: 2000 / 2000 [100%]  (Sampling) \n",
            "Chain 2 finished in 0.0 seconds.\n",
            "Chain 3 Iteration:    1 / 2000 [  0%]  (Warmup) \n",
            "Chain 3 Iteration:  100 / 2000 [  5%]  (Warmup) \n",
            "Chain 3 Iteration:  200 / 2000 [ 10%]  (Warmup) \n",
            "Chain 3 Iteration:  300 / 2000 [ 15%]  (Warmup) \n",
            "Chain 3 Iteration:  400 / 2000 [ 20%]  (Warmup) \n",
            "Chain 3 Iteration:  500 / 2000 [ 25%]  (Warmup) \n",
            "Chain 3 Iteration:  600 / 2000 [ 30%]  (Warmup) \n",
            "Chain 3 Iteration:  700 / 2000 [ 35%]  (Warmup) \n",
            "Chain 3 Iteration:  800 / 2000 [ 40%]  (Warmup) \n",
            "Chain 3 Iteration:  900 / 2000 [ 45%]  (Warmup) \n",
            "Chain 3 Iteration: 1000 / 2000 [ 50%]  (Warmup) \n",
            "Chain 3 Iteration: 1001 / 2000 [ 50%]  (Sampling) \n",
            "Chain 3 Iteration: 1100 / 2000 [ 55%]  (Sampling) \n",
            "Chain 3 Iteration: 1200 / 2000 [ 60%]  (Sampling) \n",
            "Chain 3 Iteration: 1300 / 2000 [ 65%]  (Sampling) \n",
            "Chain 3 Iteration: 1400 / 2000 [ 70%]  (Sampling) \n",
            "Chain 3 Iteration: 1500 / 2000 [ 75%]  (Sampling) \n",
            "Chain 3 Iteration: 1600 / 2000 [ 80%]  (Sampling) \n",
            "Chain 3 Iteration: 1700 / 2000 [ 85%]  (Sampling) \n",
            "Chain 3 Iteration: 1800 / 2000 [ 90%]  (Sampling) \n",
            "Chain 3 Iteration: 1900 / 2000 [ 95%]  (Sampling) \n",
            "Chain 3 Iteration: 2000 / 2000 [100%]  (Sampling) \n",
            "Chain 3 finished in 0.0 seconds.\n",
            "Chain 4 Iteration:    1 / 2000 [  0%]  (Warmup) \n",
            "Chain 4 Iteration:  100 / 2000 [  5%]  (Warmup) \n",
            "Chain 4 Iteration:  200 / 2000 [ 10%]  (Warmup) \n",
            "Chain 4 Iteration:  300 / 2000 [ 15%]  (Warmup) \n",
            "Chain 4 Iteration:  400 / 2000 [ 20%]  (Warmup) \n",
            "Chain 4 Iteration:  500 / 2000 [ 25%]  (Warmup) \n",
            "Chain 4 Iteration:  600 / 2000 [ 30%]  (Warmup) \n",
            "Chain 4 Iteration:  700 / 2000 [ 35%]  (Warmup) \n",
            "Chain 4 Iteration:  800 / 2000 [ 40%]  (Warmup) \n",
            "Chain 4 Iteration:  900 / 2000 [ 45%]  (Warmup) \n",
            "Chain 4 Iteration: 1000 / 2000 [ 50%]  (Warmup) \n",
            "Chain 4 Iteration: 1001 / 2000 [ 50%]  (Sampling) \n",
            "Chain 4 Iteration: 1100 / 2000 [ 55%]  (Sampling) \n",
            "Chain 4 Iteration: 1200 / 2000 [ 60%]  (Sampling) \n",
            "Chain 4 Iteration: 1300 / 2000 [ 65%]  (Sampling) \n",
            "Chain 4 Iteration: 1400 / 2000 [ 70%]  (Sampling) \n",
            "Chain 4 Iteration: 1500 / 2000 [ 75%]  (Sampling) \n",
            "Chain 4 Iteration: 1600 / 2000 [ 80%]  (Sampling) \n",
            "Chain 4 Iteration: 1700 / 2000 [ 85%]  (Sampling) \n",
            "Chain 4 Iteration: 1800 / 2000 [ 90%]  (Sampling) \n",
            "Chain 4 Iteration: 1900 / 2000 [ 95%]  (Sampling) \n",
            "Chain 4 Iteration: 2000 / 2000 [100%]  (Sampling) \n",
            "Chain 4 finished in 0.0 seconds.\n",
            "\n",
            "All 4 chains finished successfully.\n",
            "Mean chain execution time: 0.0 seconds.\n",
            "Total execution time: 0.5 seconds.\n",
            "\n"
          ]
        }
      ]
    },
    {
      "cell_type": "code",
      "metadata": {
        "id": "ohUphLBP7X21",
        "colab": {
          "base_uri": "https://localhost:8080/",
          "height": 641
        },
        "outputId": "b98e7cc7-6aac-4588-de57-0717c9744667"
      },
      "source": [
        "apr_27_fit$summary()\n",
        "apr_27_draws <- apr_27_fit$draws()\n",
        "hist(apr_27_draws[,,\"p\"])\n"
      ],
      "execution_count": 12,
      "outputs": [
        {
          "output_type": "display_data",
          "data": {
            "text/html": [
              "<table class=\"dataframe\">\n",
              "<caption>A draws_summary: 4 × 10</caption>\n",
              "<thead>\n",
              "\t<tr><th scope=col>variable</th><th scope=col>mean</th><th scope=col>median</th><th scope=col>sd</th><th scope=col>mad</th><th scope=col>q5</th><th scope=col>q95</th><th scope=col>rhat</th><th scope=col>ess_bulk</th><th scope=col>ess_tail</th></tr>\n",
              "\t<tr><th scope=col>&lt;chr&gt;</th><th scope=col>&lt;dbl&gt;</th><th scope=col>&lt;dbl&gt;</th><th scope=col>&lt;dbl&gt;</th><th scope=col>&lt;dbl&gt;</th><th scope=col>&lt;dbl&gt;</th><th scope=col>&lt;dbl&gt;</th><th scope=col>&lt;dbl&gt;</th><th scope=col>&lt;dbl&gt;</th><th scope=col>&lt;dbl&gt;</th></tr>\n",
              "</thead>\n",
              "<tbody>\n",
              "\t<tr><td>lp__</td><td>-446.107</td><td>-445.788</td><td>1.2261</td><td>0.9904</td><td>-448.512</td><td>-444.799</td><td>1</td><td>1959</td><td>2501</td></tr>\n",
              "\t<tr><td>p   </td><td>   0.013</td><td>   0.013</td><td>0.0030</td><td>0.0030</td><td>   0.008</td><td>   0.018</td><td>1</td><td>2478</td><td>2205</td></tr>\n",
              "\t<tr><td>spec</td><td>   0.995</td><td>   0.995</td><td>0.0012</td><td>0.0012</td><td>   0.993</td><td>   0.997</td><td>1</td><td>2535</td><td>2648</td></tr>\n",
              "\t<tr><td>sens</td><td>   0.822</td><td>   0.824</td><td>0.0300</td><td>0.0310</td><td>   0.772</td><td>   0.868</td><td>1</td><td>2637</td><td>2318</td></tr>\n",
              "</tbody>\n",
              "</table>\n"
            ],
            "text/markdown": "\nA draws_summary: 4 × 10\n\n| variable &lt;chr&gt; | mean &lt;dbl&gt; | median &lt;dbl&gt; | sd &lt;dbl&gt; | mad &lt;dbl&gt; | q5 &lt;dbl&gt; | q95 &lt;dbl&gt; | rhat &lt;dbl&gt; | ess_bulk &lt;dbl&gt; | ess_tail &lt;dbl&gt; |\n|---|---|---|---|---|---|---|---|---|---|\n| lp__ | -446.107 | -445.788 | 1.2261 | 0.9904 | -448.512 | -444.799 | 1 | 1959 | 2501 |\n| p    |    0.013 |    0.013 | 0.0030 | 0.0030 |    0.008 |    0.018 | 1 | 2478 | 2205 |\n| spec |    0.995 |    0.995 | 0.0012 | 0.0012 |    0.993 |    0.997 | 1 | 2535 | 2648 |\n| sens |    0.822 |    0.824 | 0.0300 | 0.0310 |    0.772 |    0.868 | 1 | 2637 | 2318 |\n\n",
            "text/latex": "A draws\\_summary: 4 × 10\n\\begin{tabular}{llllllllll}\n variable & mean & median & sd & mad & q5 & q95 & rhat & ess\\_bulk & ess\\_tail\\\\\n <chr> & <dbl> & <dbl> & <dbl> & <dbl> & <dbl> & <dbl> & <dbl> & <dbl> & <dbl>\\\\\n\\hline\n\t lp\\_\\_ & -446.107 & -445.788 & 1.2261 & 0.9904 & -448.512 & -444.799 & 1 & 1959 & 2501\\\\\n\t p    &    0.013 &    0.013 & 0.0030 & 0.0030 &    0.008 &    0.018 & 1 & 2478 & 2205\\\\\n\t spec &    0.995 &    0.995 & 0.0012 & 0.0012 &    0.993 &    0.997 & 1 & 2535 & 2648\\\\\n\t sens &    0.822 &    0.824 & 0.0300 & 0.0310 &    0.772 &    0.868 & 1 & 2637 & 2318\\\\\n\\end{tabular}\n",
            "text/plain": [
              "  variable mean     median   sd     mad    q5       q95      rhat ess_bulk\n",
              "1 lp__     -446.107 -445.788 1.2261 0.9904 -448.512 -444.799 1    1959    \n",
              "2 p           0.013    0.013 0.0030 0.0030    0.008    0.018 1    2478    \n",
              "3 spec        0.995    0.995 0.0012 0.0012    0.993    0.997 1    2535    \n",
              "4 sens        0.822    0.824 0.0300 0.0310    0.772    0.868 1    2637    \n",
              "  ess_tail\n",
              "1 2501    \n",
              "2 2205    \n",
              "3 2648    \n",
              "4 2318    "
            ]
          },
          "metadata": {}
        },
        {
          "output_type": "display_data",
          "data": {
            "text/plain": [
              "Plot with title “Histogram of apr_27_draws[, , \"p\"]”"
            ],
            "image/png": "[encoded data removed]"
          },
          "metadata": {
            "image/png": {
              "width": 420,
              "height": 420
            }
          }
        }
      ]
    },
    {
      "cell_type": "markdown",
      "metadata": {
        "id": "9hnvISZJ7q_T"
      },
      "source": [
        "### Hierarchical Model\n",
        "\n",
        "The hierarchical model allows the sensitivities and specificities to vary across studies.\n",
        "In the blogpost is called \"santaclara_hier.stan\".  We'll call it \"hier_sens_spec.stan\n",
        "\n"
      ]
    },
    {
      "cell_type": "code",
      "metadata": {
        "id": "vVcPXzJ27fXf",
        "colab": {
          "base_uri": "https://localhost:8080/"
        },
        "outputId": "282d628c-1e56-4fcf-c4d6-fc3470363076"
      },
      "source": [
        "print_file(\"hier_sens_spec.stan\")"
      ],
      "execution_count": 13,
      "outputs": [
        {
          "output_type": "stream",
          "name": "stdout",
          "text": [
            "/**\n",
            " * meta-analysis of disease infection rate studies\n",
            " * hierarchical model of sensitivity and specificity\n",
            " * non-centered parameterization\n",
            " */\n",
            "data {\n",
            "  int y_sample;\n",
            "  int n_sample;\n",
            "  int J_spec;\n",
            "  array[J_spec] int y_spec;\n",
            "  array[J_spec] int n_spec;\n",
            "  int J_sens;\n",
            "  array[J_sens] int y_sens;\n",
            "  array[J_sens] int n_sens;\n",
            "}\n",
            "parameters {\n",
            "  real<lower=0, upper=1> p;\n",
            "  real mu_spec;\n",
            "  real<lower=0> sigma_spec;\n",
            "  real mu_sens;\n",
            "  real<lower=0> sigma_sens;\n",
            "  vector[J_spec] e_spec;\n",
            "  vector[J_sens] e_sens;\n",
            "}\n",
            "transformed parameters {\n",
            "  vector[J_spec] spec;\n",
            "  vector[J_sens] sens;\n",
            "  spec = inv_logit(mu_spec + sigma_spec * e_spec);\n",
            "  sens = inv_logit(mu_sens + sigma_sens * e_sens);\n",
            "}\n",
            "model {\n",
            "  real p_sample;\n",
            "  p_sample = p * sens[1] + (1 - p) * (1 - spec[1]);\n",
            "  y_sample ~ binomial(n_sample, p_sample);\n",
            "  y_spec ~ binomial(n_spec, spec);\n",
            "  y_sens ~ binomial(n_sens, sens);\n",
            "  e_spec ~ normal(0, 1);\n",
            "  e_sens ~ normal(0, 1);\n",
            "  sigma_spec ~ normal(0, 1);\n",
            "  sigma_sens ~ normal(0, 0.2);\n",
            "}\n"
          ]
        }
      ]
    },
    {
      "cell_type": "markdown",
      "metadata": {
        "id": "R_luLy8k7rSA"
      },
      "source": [
        "__Note__: this model has the suggested tight prior on `sigma_sens` in order to compensate for only having data from 3 studies to fit.\n",
        "\n",
        "For this model, the data is broken out by study.  We copied this data out of page 19 of the report and munged it into the forms required by the model's data block variable definitions."
      ]
    },
    {
      "cell_type": "code",
      "metadata": {
        "id": "ReDYnuOb78xc",
        "colab": {
          "base_uri": "https://localhost:8080/"
        },
        "outputId": "5169ab17-f574-4f12-fb50-3acd9930c219"
      },
      "source": [
        "print_file(\"santa_clara_all.data.json\")"
      ],
      "execution_count": 14,
      "outputs": [
        {
          "output_type": "stream",
          "name": "stdout",
          "text": [
            "{\n",
            "    \"y_sample\" : 50,\n",
            "    \"n_sample\" : 3330,\n",
            "    \"J_spec\" : 14,\n",
            "    \"J_sens\" : 4,\n",
            "    \"y_spec\" : [0,368,30,70,1102,300,311,500,198,99,29,146,105,50],\n",
            "    \"n_spec\" : [0,371,30,70,1102,300,311,500,200,99,31,150,108,52],\n",
            "    \"y_sens\" : [0,78,27,25],\n",
            "    \"n_sens\" : [0,85,37,35]\n",
            "}\n"
          ]
        }
      ]
    },
    {
      "cell_type": "markdown",
      "metadata": {
        "id": "yWNEf0sdC1Kk"
      },
      "source": [
        "In order to avoid divergent iterations, which result in biased estimates, we set the parameter `adapt_delta` to 0.98."
      ]
    },
    {
      "cell_type": "code",
      "metadata": {
        "id": "z62zbflq8Ivu",
        "colab": {
          "base_uri": "https://localhost:8080/",
          "height": 504
        },
        "outputId": "3d3658f8-26c5-4443-d830-d760099db46c"
      },
      "source": [
        "hier_model <- cmdstan_model(stan_file='hier_sens_spec.stan')\n",
        "hier_fit <- hier_model$sample(data='santa_clara_all.data.json', adapt_delta=0.98)\n"
      ],
      "execution_count": 15,
      "outputs": [
        {
          "output_type": "stream",
          "name": "stderr",
          "text": [
            "\n",
            "Syntax error in '/tmp/RtmpG3h2r5/model-3d22e7a88.stan', line 9, column 2 to column 13, parsing error:\n",
            "   -------------------------------------------------\n",
            "     7:    int y_sample;\n",
            "     8:    int n_sample;\n",
            "     9:    int J_spec;\n",
            "                      ^\n",
            "    10:    array[J_spec] int y_spec;\n",
            "    11:    array[J_spec] int n_spec;\n",
            "   -------------------------------------------------\n",
            "\n",
            "Only top-level variable declarations allowed in data and parameters blocks.\n",
            "\n",
            "\n",
            "\n",
            "\n"
          ]
        },
        {
          "output_type": "error",
          "ename": "ERROR",
          "evalue": "ignored",
          "traceback": [
            "Error: An error occured during compilation! See the message above for more information.\nTraceback:\n",
            "1. cmdstan_model(stan_file = \"hier_sens_spec.stan\")",
            "2. CmdStanModel$new(stan_file = stan_file, exe_file = exe_file, \n .     compile = compile, ...)",
            "3. initialize(...)",
            "4. self$compile(...)",
            "5. stop(\"An error occured during compilation! See the message above for more information.\", \n .     call. = FALSE)"
          ]
        }
      ]
    },
    {
      "cell_type": "markdown",
      "metadata": {
        "id": "n-pky8hw7rXy"
      },
      "source": [
        "This central 95% interval is [0.004 - 0.022]."
      ]
    },
    {
      "cell_type": "code",
      "metadata": {
        "id": "98TZwYPU8I-j",
        "colab": {
          "base_uri": "https://localhost:8080/",
          "height": 96
        },
        "outputId": "eec275cd-efef-4708-9542-ec8184963e03"
      },
      "source": [
        "hier_fit$summary()\n",
        "hier_draws <- hier_fit$draws()\n",
        "hist(hier_draws[,,\"p\"])\n"
      ],
      "execution_count": 16,
      "outputs": [
        {
          "output_type": "error",
          "ename": "ERROR",
          "evalue": "ignored",
          "traceback": [
            "Error in eval(expr, envir, enclos): object 'hier_fit' not found\nTraceback:\n"
          ]
        }
      ]
    },
    {
      "cell_type": "markdown",
      "metadata": {
        "id": "IlMIfqDv9LZc"
      },
      "source": [
        "Bob Carpenter provided a second version of the hierarchical model in which the parameters for the item-level specificities and sensitivies are specified using the Stan language \"offset, multiplier\" syntax which allows for affine transforms on real-valued variables.  See the Stan Language Reference Manual, chapter [Univariate Data Types and Variable Declarations](https://mc-stan.org/docs/2_23/reference-manual/univariate-data-types-and-variable-declarations.html) for further details. We call this model \"hier_sens_spec_offset_mult.stan"
      ]
    },
    {
      "cell_type": "code",
      "metadata": {
        "id": "nfHLxT1U9AyT"
      },
      "source": [
        "print_file(\"hier_sens_spec_offset_mult.stan\")"
      ],
      "execution_count": null,
      "outputs": []
    },
    {
      "cell_type": "code",
      "metadata": {
        "id": "imYp51mw9WAL"
      },
      "source": [
        "hier_model_v2 <- cmdstan_model(stan_file='hier_sens_spec_offset_mult.stan')\n",
        "hier_fit_v2 <- hier_model_v2$sample(data='santa_clara_all.data.json', adapt_delta=0.98)"
      ],
      "execution_count": null,
      "outputs": []
    },
    {
      "cell_type": "code",
      "metadata": {
        "id": "5_ylSKSD9iZ5"
      },
      "source": [
        "hier_fit_v2$summary()\n",
        "hier_draws_v2 <- hier_fit_v2$draws()\n",
        "hist(hier_draws_v2[,,\"p\"])"
      ],
      "execution_count": null,
      "outputs": []
    },
    {
      "cell_type": "code",
      "metadata": {
        "id": "P9jZ_y8s9z9W",
        "colab": {
          "base_uri": "https://localhost:8080/"
        },
        "outputId": "f6d9a1ef-1eec-47e2-d847-38ed31d5444b"
      },
      "source": [
        "install.packages(c(\"coda\", \"mvtnorm\", \"devtools\", \"dagitty\"))"
      ],
      "execution_count": 17,
      "outputs": [
        {
          "output_type": "stream",
          "name": "stderr",
          "text": [
            "Installing packages into ‘/usr/local/lib/R/site-library’\n",
            "(as ‘lib’ is unspecified)\n",
            "\n",
            "also installing the dependency ‘V8’\n",
            "\n",
            "\n"
          ]
        }
      ]
    },
    {
      "cell_type": "code",
      "source": [
        "library(devtools)"
      ],
      "metadata": {
        "id": "OqRV_pXqXsBN"
      },
      "execution_count": 18,
      "outputs": []
    },
    {
      "cell_type": "code",
      "source": [
        "devtools::install_github(\"rmcelreath/rethinking\")"
      ],
      "metadata": {
        "id": "NzmviGT8X7NW",
        "outputId": "027826dc-06c8-475b-d105-8cc063e0216d",
        "colab": {
          "base_uri": "https://localhost:8080/"
        }
      },
      "execution_count": 19,
      "outputs": [
        {
          "output_type": "stream",
          "name": "stderr",
          "text": [
            "Downloading GitHub repo rmcelreath/rethinking@HEAD\n",
            "\n"
          ]
        },
        {
          "output_type": "stream",
          "name": "stdout",
          "text": [
            "Rcpp         (1.0.8 -> 1.0.8.2  ) [CRAN]\n",
            "desc         (1.4.0 -> 1.4.1    ) [CRAN]\n",
            "RcppEigen    (NA    -> 0.3.3.9.1) [CRAN]\n",
            "RcppParallel (NA    -> 5.1.5    ) [CRAN]\n",
            "BH           (NA    -> 1.78.0-0 ) [CRAN]\n",
            "loo          (NA    -> 2.4.1    ) [CRAN]\n",
            "gridExtra    (NA    -> 2.3      ) [CRAN]\n",
            "inline       (NA    -> 0.3.19   ) [CRAN]\n",
            "StanHeaders  (NA    -> 2.21.0-7 ) [CRAN]\n",
            "shape        (NA    -> 1.4.6    ) [CRAN]\n",
            "rstan        (NA    -> 2.21.3   ) [CRAN]\n"
          ]
        },
        {
          "output_type": "stream",
          "name": "stderr",
          "text": [
            "Installing 11 packages: Rcpp, desc, RcppEigen, RcppParallel, BH, loo, gridExtra, inline, StanHeaders, shape, rstan\n",
            "\n",
            "Installing packages into ‘/usr/local/lib/R/site-library’\n",
            "(as ‘lib’ is unspecified)\n",
            "\n"
          ]
        },
        {
          "output_type": "stream",
          "name": "stdout",
          "text": [
            "* checking for file ‘/tmp/RtmpG3h2r5/remotes3ddbaca34/rmcelreath-rethinking-783d111/DESCRIPTION’ ... OK\n",
            "* preparing ‘rethinking’:\n",
            "* checking DESCRIPTION meta-information ... OK\n",
            "* checking for LF line-endings in source and make files and shell scripts\n",
            "* checking for empty or unneeded directories\n",
            "* looking to see if a ‘data/datalist’ file should be added\n",
            "* building ‘rethinking_2.21.tar.gz’\n",
            "\n"
          ]
        },
        {
          "output_type": "stream",
          "name": "stderr",
          "text": [
            "Installing package into ‘/usr/local/lib/R/site-library’\n",
            "(as ‘lib’ is unspecified)\n",
            "\n"
          ]
        }
      ]
    },
    {
      "cell_type": "code",
      "source": [
        "sppnames <- c( \"afarensis\",\"africanus\",\"habilis\",\"boisei\",\n",
        "    \"rudolfensis\",\"ergaster\",\"sapiens\")\n",
        "brainvolcc <- c( 438 , 452 , 612, 521, 752, 871, 1350 )\n",
        "masskg <- c( 37.0 , 35.5 , 34.5 , 41.5 , 55.5 , 61.0 , 53.5 )\n",
        "d <- data.frame( species=sppnames , brain=brainvolcc , mass=masskg )"
      ],
      "metadata": {
        "id": "do5JH4d8YBLi"
      },
      "execution_count": 20,
      "outputs": []
    },
    {
      "cell_type": "code",
      "source": [
        "d"
      ],
      "metadata": {
        "id": "NBlGFUpycRPo",
        "outputId": "a368b7c7-032a-4117-c28c-c8c9c4db64e9",
        "colab": {
          "base_uri": "https://localhost:8080/",
          "height": 314
        }
      },
      "execution_count": 21,
      "outputs": [
        {
          "output_type": "display_data",
          "data": {
            "text/html": [
              "<table class=\"dataframe\">\n",
              "<caption>A data.frame: 7 × 3</caption>\n",
              "<thead>\n",
              "\t<tr><th scope=col>species</th><th scope=col>brain</th><th scope=col>mass</th></tr>\n",
              "\t<tr><th scope=col>&lt;chr&gt;</th><th scope=col>&lt;dbl&gt;</th><th scope=col>&lt;dbl&gt;</th></tr>\n",
              "</thead>\n",
              "<tbody>\n",
              "\t<tr><td>afarensis  </td><td> 438</td><td>37</td></tr>\n",
              "\t<tr><td>africanus  </td><td> 452</td><td>36</td></tr>\n",
              "\t<tr><td>habilis    </td><td> 612</td><td>34</td></tr>\n",
              "\t<tr><td>boisei     </td><td> 521</td><td>42</td></tr>\n",
              "\t<tr><td>rudolfensis</td><td> 752</td><td>56</td></tr>\n",
              "\t<tr><td>ergaster   </td><td> 871</td><td>61</td></tr>\n",
              "\t<tr><td>sapiens    </td><td>1350</td><td>54</td></tr>\n",
              "</tbody>\n",
              "</table>\n"
            ],
            "text/markdown": "\nA data.frame: 7 × 3\n\n| species &lt;chr&gt; | brain &lt;dbl&gt; | mass &lt;dbl&gt; |\n|---|---|---|\n| afarensis   |  438 | 37 |\n| africanus   |  452 | 36 |\n| habilis     |  612 | 34 |\n| boisei      |  521 | 42 |\n| rudolfensis |  752 | 56 |\n| ergaster    |  871 | 61 |\n| sapiens     | 1350 | 54 |\n\n",
            "text/latex": "A data.frame: 7 × 3\n\\begin{tabular}{lll}\n species & brain & mass\\\\\n <chr> & <dbl> & <dbl>\\\\\n\\hline\n\t afarensis   &  438 & 37\\\\\n\t africanus   &  452 & 36\\\\\n\t habilis     &  612 & 34\\\\\n\t boisei      &  521 & 42\\\\\n\t rudolfensis &  752 & 56\\\\\n\t ergaster    &  871 & 61\\\\\n\t sapiens     & 1350 & 54\\\\\n\\end{tabular}\n",
            "text/plain": [
              "  species     brain mass\n",
              "1 afarensis    438  37  \n",
              "2 africanus    452  36  \n",
              "3 habilis      612  34  \n",
              "4 boisei       521  42  \n",
              "5 rudolfensis  752  56  \n",
              "6 ergaster     871  61  \n",
              "7 sapiens     1350  54  "
            ]
          },
          "metadata": {}
        }
      ]
    },
    {
      "cell_type": "code",
      "source": [
        "cmdstanr::install_cmdstan()"
      ],
      "metadata": {
        "id": "Iel2d7x7d5B7",
        "outputId": "6086966b-cd13-4be3-c2d6-86859961ce33",
        "colab": {
          "base_uri": "https://localhost:8080/"
        }
      },
      "execution_count": 26,
      "outputs": [
        {
          "output_type": "stream",
          "name": "stderr",
          "text": [
            "The C++ toolchain required for CmdStan is setup properly!\n",
            "\n",
            "* Latest CmdStan release is v2.29.1\n",
            "\n",
            "* Installing CmdStan v2.29.1 in /root/.cmdstan/cmdstan-2.29.1\n",
            "\n",
            "* Downloading cmdstan-2.29.1.tar.gz from GitHub...\n",
            "\n",
            "* Download complete\n",
            "\n",
            "* Unpacking archive...\n",
            "\n",
            "* Building CmdStan binaries...\n",
            "\n"
          ]
        },
        {
          "output_type": "stream",
          "name": "stdout",
          "text": [
            "cp bin/linux-stanc bin/stanc\n",
            "g++ -pipe   -pthread -D_REENTRANT  -O3 -I stan/lib/stan_math/lib/sundials_6.0.0/include -I stan/lib/stan_math/lib/sundials_6.0.0/src/sundials -DNO_FPRINTF_OUTPUT     -O3  -c -x c -include stan/lib/stan_math/lib/sundials_6.0.0/include/stan_sundials_printf_override.hpp stan/lib/stan_math/lib/sundials_6.0.0/src/nvector/serial/nvector_serial.c -o stan/lib/stan_math/lib/sundials_6.0.0/src/nvector/serial/nvector_serial.o\n",
            "chmod +x bin/stanc\n",
            "g++ -pipe   -pthread -D_REENTRANT  -O3 -I stan/lib/stan_math/lib/sundials_6.0.0/include -I stan/lib/stan_math/lib/sundials_6.0.0/src/sundials -DNO_FPRINTF_OUTPUT     -O3  -c -x c -include stan/lib/stan_math/lib/sundials_6.0.0/include/stan_sundials_printf_override.hpp stan/lib/stan_math/lib/sundials_6.0.0/src/sundials/sundials_math.c -o stan/lib/stan_math/lib/sundials_6.0.0/src/sundials/sundials_math.o\n",
            "g++ -pipe   -pthread -D_REENTRANT  -O3 -I stan/lib/stan_math/lib/sundials_6.0.0/include -I stan/lib/stan_math/lib/sundials_6.0.0/src/sundials -DNO_FPRINTF_OUTPUT     -O3  -c -x c -include stan/lib/stan_math/lib/sundials_6.0.0/include/stan_sundials_printf_override.hpp stan/lib/stan_math/lib/sundials_6.0.0/src/cvodes/cvodes_nls.c -o stan/lib/stan_math/lib/sundials_6.0.0/src/cvodes/cvodes_nls.o\n",
            "g++ -pipe   -pthread -D_REENTRANT  -O3 -I stan/lib/stan_math/lib/sundials_6.0.0/include -I stan/lib/stan_math/lib/sundials_6.0.0/src/sundials -DNO_FPRINTF_OUTPUT     -O3  -c -x c -include stan/lib/stan_math/lib/sundials_6.0.0/include/stan_sundials_printf_override.hpp stan/lib/stan_math/lib/sundials_6.0.0/src/cvodes/cvodes_diag.c -o stan/lib/stan_math/lib/sundials_6.0.0/src/cvodes/cvodes_diag.o\n",
            "g++ -pipe   -pthread -D_REENTRANT  -O3 -I stan/lib/stan_math/lib/sundials_6.0.0/include -I stan/lib/stan_math/lib/sundials_6.0.0/src/sundials -DNO_FPRINTF_OUTPUT     -O3  -c -x c -include stan/lib/stan_math/lib/sundials_6.0.0/include/stan_sundials_printf_override.hpp stan/lib/stan_math/lib/sundials_6.0.0/src/cvodes/cvodes_direct.c -o stan/lib/stan_math/lib/sundials_6.0.0/src/cvodes/cvodes_direct.o\n",
            "g++ -pipe   -pthread -D_REENTRANT  -O3 -I stan/lib/stan_math/lib/sundials_6.0.0/include -I stan/lib/stan_math/lib/sundials_6.0.0/src/sundials -DNO_FPRINTF_OUTPUT     -O3  -c -x c -include stan/lib/stan_math/lib/sundials_6.0.0/include/stan_sundials_printf_override.hpp stan/lib/stan_math/lib/sundials_6.0.0/src/cvodes/cvodea.c -o stan/lib/stan_math/lib/sundials_6.0.0/src/cvodes/cvodea.o\n",
            "g++ -pipe   -pthread -D_REENTRANT  -O3 -I stan/lib/stan_math/lib/sundials_6.0.0/include -I stan/lib/stan_math/lib/sundials_6.0.0/src/sundials -DNO_FPRINTF_OUTPUT     -O3  -c -x c -include stan/lib/stan_math/lib/sundials_6.0.0/include/stan_sundials_printf_override.hpp stan/lib/stan_math/lib/sundials_6.0.0/src/cvodes/cvodes_nls_stg.c -o stan/lib/stan_math/lib/sundials_6.0.0/src/cvodes/cvodes_nls_stg.o\n",
            "g++ -pipe   -pthread -D_REENTRANT  -O3 -I stan/lib/stan_math/lib/sundials_6.0.0/include -I stan/lib/stan_math/lib/sundials_6.0.0/src/sundials -DNO_FPRINTF_OUTPUT     -O3  -c -x c -include stan/lib/stan_math/lib/sundials_6.0.0/include/stan_sundials_printf_override.hpp stan/lib/stan_math/lib/sundials_6.0.0/src/cvodes/cvodes_bbdpre.c -o stan/lib/stan_math/lib/sundials_6.0.0/src/cvodes/cvodes_bbdpre.o\n",
            "g++ -pipe   -pthread -D_REENTRANT  -O3 -I stan/lib/stan_math/lib/sundials_6.0.0/include -I stan/lib/stan_math/lib/sundials_6.0.0/src/sundials -DNO_FPRINTF_OUTPUT     -O3  -c -x c -include stan/lib/stan_math/lib/sundials_6.0.0/include/stan_sundials_printf_override.hpp stan/lib/stan_math/lib/sundials_6.0.0/src/cvodes/cvodes_bandpre.c -o stan/lib/stan_math/lib/sundials_6.0.0/src/cvodes/cvodes_bandpre.o\n",
            "g++ -pipe   -pthread -D_REENTRANT  -O3 -I stan/lib/stan_math/lib/sundials_6.0.0/include -I stan/lib/stan_math/lib/sundials_6.0.0/src/sundials -DNO_FPRINTF_OUTPUT     -O3  -c -x c -include stan/lib/stan_math/lib/sundials_6.0.0/include/stan_sundials_printf_override.hpp stan/lib/stan_math/lib/sundials_6.0.0/src/cvodes/cvodes_io.c -o stan/lib/stan_math/lib/sundials_6.0.0/src/cvodes/cvodes_io.o\n",
            "g++ -pipe   -pthread -D_REENTRANT  -O3 -I stan/lib/stan_math/lib/sundials_6.0.0/include -I stan/lib/stan_math/lib/sundials_6.0.0/src/sundials -DNO_FPRINTF_OUTPUT     -O3  -c -x c -include stan/lib/stan_math/lib/sundials_6.0.0/include/stan_sundials_printf_override.hpp stan/lib/stan_math/lib/sundials_6.0.0/src/cvodes/cvodes_spils.c -o stan/lib/stan_math/lib/sundials_6.0.0/src/cvodes/cvodes_spils.o\n",
            "g++ -pipe   -pthread -D_REENTRANT  -O3 -I stan/lib/stan_math/lib/sundials_6.0.0/include -I stan/lib/stan_math/lib/sundials_6.0.0/src/sundials -DNO_FPRINTF_OUTPUT     -O3  -c -x c -include stan/lib/stan_math/lib/sundials_6.0.0/include/stan_sundials_printf_override.hpp stan/lib/stan_math/lib/sundials_6.0.0/src/cvodes/cvodea_io.c -o stan/lib/stan_math/lib/sundials_6.0.0/src/cvodes/cvodea_io.o\n",
            "g++ -pipe   -pthread -D_REENTRANT  -O3 -I stan/lib/stan_math/lib/sundials_6.0.0/include -I stan/lib/stan_math/lib/sundials_6.0.0/src/sundials -DNO_FPRINTF_OUTPUT     -O3  -c -x c -include stan/lib/stan_math/lib/sundials_6.0.0/include/stan_sundials_printf_override.hpp stan/lib/stan_math/lib/sundials_6.0.0/src/cvodes/cvodes.c -o stan/lib/stan_math/lib/sundials_6.0.0/src/cvodes/cvodes.o\n",
            "g++ -pipe   -pthread -D_REENTRANT  -O3 -I stan/lib/stan_math/lib/sundials_6.0.0/include -I stan/lib/stan_math/lib/sundials_6.0.0/src/sundials -DNO_FPRINTF_OUTPUT     -O3  -c -x c -include stan/lib/stan_math/lib/sundials_6.0.0/include/stan_sundials_printf_override.hpp stan/lib/stan_math/lib/sundials_6.0.0/src/cvodes/cvodes_ls.c -o stan/lib/stan_math/lib/sundials_6.0.0/src/cvodes/cvodes_ls.o\n",
            "g++ -pipe   -pthread -D_REENTRANT  -O3 -I stan/lib/stan_math/lib/sundials_6.0.0/include -I stan/lib/stan_math/lib/sundials_6.0.0/src/sundials -DNO_FPRINTF_OUTPUT     -O3  -c -x c -include stan/lib/stan_math/lib/sundials_6.0.0/include/stan_sundials_printf_override.hpp stan/lib/stan_math/lib/sundials_6.0.0/src/cvodes/cvodes_nls_sim.c -o stan/lib/stan_math/lib/sundials_6.0.0/src/cvodes/cvodes_nls_sim.o\n",
            "g++ -pipe   -pthread -D_REENTRANT  -O3 -I stan/lib/stan_math/lib/sundials_6.0.0/include -I stan/lib/stan_math/lib/sundials_6.0.0/src/sundials -DNO_FPRINTF_OUTPUT     -O3  -c -x c -include stan/lib/stan_math/lib/sundials_6.0.0/include/stan_sundials_printf_override.hpp stan/lib/stan_math/lib/sundials_6.0.0/src/cvodes/cvodes_nls_stg1.c -o stan/lib/stan_math/lib/sundials_6.0.0/src/cvodes/cvodes_nls_stg1.o\n",
            "g++ -pipe   -pthread -D_REENTRANT  -O3 -I stan/lib/stan_math/lib/sundials_6.0.0/include -I stan/lib/stan_math/lib/sundials_6.0.0/src/sundials -DNO_FPRINTF_OUTPUT     -O3  -c -x c -include stan/lib/stan_math/lib/sundials_6.0.0/include/stan_sundials_printf_override.hpp stan/lib/stan_math/lib/sundials_6.0.0/src/sundials/sundials_matrix.c -o stan/lib/stan_math/lib/sundials_6.0.0/src/sundials/sundials_matrix.o\n",
            "g++ -pipe   -pthread -D_REENTRANT  -O3 -I stan/lib/stan_math/lib/sundials_6.0.0/include -I stan/lib/stan_math/lib/sundials_6.0.0/src/sundials -DNO_FPRINTF_OUTPUT     -O3  -c -x c -include stan/lib/stan_math/lib/sundials_6.0.0/include/stan_sundials_printf_override.hpp stan/lib/stan_math/lib/sundials_6.0.0/src/sundials/sundials_futils.c -o stan/lib/stan_math/lib/sundials_6.0.0/src/sundials/sundials_futils.o\n",
            "g++ -pipe   -pthread -D_REENTRANT  -O3 -I stan/lib/stan_math/lib/sundials_6.0.0/include -I stan/lib/stan_math/lib/sundials_6.0.0/src/sundials -DNO_FPRINTF_OUTPUT     -O3  -c -x c -include stan/lib/stan_math/lib/sundials_6.0.0/include/stan_sundials_printf_override.hpp stan/lib/stan_math/lib/sundials_6.0.0/src/sundials/sundials_nonlinearsolver.c -o stan/lib/stan_math/lib/sundials_6.0.0/src/sundials/sundials_nonlinearsolver.o\n",
            "g++ -pipe   -pthread -D_REENTRANT  -O3 -I stan/lib/stan_math/lib/sundials_6.0.0/include -I stan/lib/stan_math/lib/sundials_6.0.0/src/sundials -DNO_FPRINTF_OUTPUT     -O3  -c -x c -include stan/lib/stan_math/lib/sundials_6.0.0/include/stan_sundials_printf_override.hpp stan/lib/stan_math/lib/sundials_6.0.0/src/sundials/sundials_version.c -o stan/lib/stan_math/lib/sundials_6.0.0/src/sundials/sundials_version.o\n",
            "g++ -pipe   -pthread -D_REENTRANT  -O3 -I stan/lib/stan_math/lib/sundials_6.0.0/include -I stan/lib/stan_math/lib/sundials_6.0.0/src/sundials -DNO_FPRINTF_OUTPUT     -O3  -c -x c -include stan/lib/stan_math/lib/sundials_6.0.0/include/stan_sundials_printf_override.hpp stan/lib/stan_math/lib/sundials_6.0.0/src/sundials/sundials_band.c -o stan/lib/stan_math/lib/sundials_6.0.0/src/sundials/sundials_band.o\n",
            "g++ -pipe   -pthread -D_REENTRANT  -O3 -I stan/lib/stan_math/lib/sundials_6.0.0/include -I stan/lib/stan_math/lib/sundials_6.0.0/src/sundials -DNO_FPRINTF_OUTPUT     -O3  -c -x c -include stan/lib/stan_math/lib/sundials_6.0.0/include/stan_sundials_printf_override.hpp stan/lib/stan_math/lib/sundials_6.0.0/src/sundials/sundials_direct.c -o stan/lib/stan_math/lib/sundials_6.0.0/src/sundials/sundials_direct.o\n",
            "g++ -pipe   -pthread -D_REENTRANT  -O3 -I stan/lib/stan_math/lib/sundials_6.0.0/include -I stan/lib/stan_math/lib/sundials_6.0.0/src/sundials -DNO_FPRINTF_OUTPUT     -O3  -c -x c -include stan/lib/stan_math/lib/sundials_6.0.0/include/stan_sundials_printf_override.hpp stan/lib/stan_math/lib/sundials_6.0.0/src/sundials/sundials_iterative.c -o stan/lib/stan_math/lib/sundials_6.0.0/src/sundials/sundials_iterative.o\n",
            "g++ -pipe   -pthread -D_REENTRANT  -O3 -I stan/lib/stan_math/lib/sundials_6.0.0/include -I stan/lib/stan_math/lib/sundials_6.0.0/src/sundials -DNO_FPRINTF_OUTPUT     -O3  -c -x c -include stan/lib/stan_math/lib/sundials_6.0.0/include/stan_sundials_printf_override.hpp stan/lib/stan_math/lib/sundials_6.0.0/src/sundials/sundials_linearsolver.c -o stan/lib/stan_math/lib/sundials_6.0.0/src/sundials/sundials_linearsolver.o\n",
            "g++ -pipe   -pthread -D_REENTRANT  -O3 -I stan/lib/stan_math/lib/sundials_6.0.0/include -I stan/lib/stan_math/lib/sundials_6.0.0/src/sundials -DNO_FPRINTF_OUTPUT     -O3  -c -x c -include stan/lib/stan_math/lib/sundials_6.0.0/include/stan_sundials_printf_override.hpp stan/lib/stan_math/lib/sundials_6.0.0/src/sundials/sundials_memory.c -o stan/lib/stan_math/lib/sundials_6.0.0/src/sundials/sundials_memory.o\n",
            "g++ -pipe   -pthread -D_REENTRANT  -O3 -I stan/lib/stan_math/lib/sundials_6.0.0/include -I stan/lib/stan_math/lib/sundials_6.0.0/src/sundials -DNO_FPRINTF_OUTPUT     -O3  -c -x c -include stan/lib/stan_math/lib/sundials_6.0.0/include/stan_sundials_printf_override.hpp stan/lib/stan_math/lib/sundials_6.0.0/src/sundials/sundials_context.c -o stan/lib/stan_math/lib/sundials_6.0.0/src/sundials/sundials_context.o\n",
            "g++ -pipe   -pthread -D_REENTRANT  -O3 -I stan/lib/stan_math/lib/sundials_6.0.0/include -I stan/lib/stan_math/lib/sundials_6.0.0/src/sundials -DNO_FPRINTF_OUTPUT     -O3  -c -x c -include stan/lib/stan_math/lib/sundials_6.0.0/include/stan_sundials_printf_override.hpp stan/lib/stan_math/lib/sundials_6.0.0/src/sundials/sundials_nvector.c -o stan/lib/stan_math/lib/sundials_6.0.0/src/sundials/sundials_nvector.o\n",
            "g++ -pipe   -pthread -D_REENTRANT  -O3 -I stan/lib/stan_math/lib/sundials_6.0.0/include -I stan/lib/stan_math/lib/sundials_6.0.0/src/sundials -DNO_FPRINTF_OUTPUT     -O3  -c -x c -include stan/lib/stan_math/lib/sundials_6.0.0/include/stan_sundials_printf_override.hpp stan/lib/stan_math/lib/sundials_6.0.0/src/sundials/sundials_nvector_senswrapper.c -o stan/lib/stan_math/lib/sundials_6.0.0/src/sundials/sundials_nvector_senswrapper.o\n",
            "g++ -pipe   -pthread -D_REENTRANT  -O3 -I stan/lib/stan_math/lib/sundials_6.0.0/include -I stan/lib/stan_math/lib/sundials_6.0.0/src/sundials -DNO_FPRINTF_OUTPUT     -O3  -c -x c -include stan/lib/stan_math/lib/sundials_6.0.0/include/stan_sundials_printf_override.hpp stan/lib/stan_math/lib/sundials_6.0.0/src/sundials/sundials_dense.c -o stan/lib/stan_math/lib/sundials_6.0.0/src/sundials/sundials_dense.o\n",
            "g++ -pipe   -pthread -D_REENTRANT  -O3 -I stan/lib/stan_math/lib/sundials_6.0.0/include -I stan/lib/stan_math/lib/sundials_6.0.0/src/sundials -DNO_FPRINTF_OUTPUT     -O3  -c -x c -include stan/lib/stan_math/lib/sundials_6.0.0/include/stan_sundials_printf_override.hpp stan/lib/stan_math/lib/sundials_6.0.0/src/sunmatrix/band/sunmatrix_band.c -o stan/lib/stan_math/lib/sundials_6.0.0/src/sunmatrix/band/sunmatrix_band.o\n",
            "g++ -pipe   -pthread -D_REENTRANT  -O3 -I stan/lib/stan_math/lib/sundials_6.0.0/include -I stan/lib/stan_math/lib/sundials_6.0.0/src/sundials -DNO_FPRINTF_OUTPUT     -O3  -c -x c -include stan/lib/stan_math/lib/sundials_6.0.0/include/stan_sundials_printf_override.hpp stan/lib/stan_math/lib/sundials_6.0.0/src/sunmatrix/dense/sunmatrix_dense.c -o stan/lib/stan_math/lib/sundials_6.0.0/src/sunmatrix/dense/sunmatrix_dense.o\n",
            "g++ -pipe   -pthread -D_REENTRANT  -O3 -I stan/lib/stan_math/lib/sundials_6.0.0/include -I stan/lib/stan_math/lib/sundials_6.0.0/src/sundials -DNO_FPRINTF_OUTPUT     -O3  -c -x c -include stan/lib/stan_math/lib/sundials_6.0.0/include/stan_sundials_printf_override.hpp stan/lib/stan_math/lib/sundials_6.0.0/src/sunlinsol/band/sunlinsol_band.c -o stan/lib/stan_math/lib/sundials_6.0.0/src/sunlinsol/band/sunlinsol_band.o\n",
            "g++ -pipe   -pthread -D_REENTRANT  -O3 -I stan/lib/stan_math/lib/sundials_6.0.0/include -I stan/lib/stan_math/lib/sundials_6.0.0/src/sundials -DNO_FPRINTF_OUTPUT     -O3  -c -x c -include stan/lib/stan_math/lib/sundials_6.0.0/include/stan_sundials_printf_override.hpp stan/lib/stan_math/lib/sundials_6.0.0/src/sunlinsol/dense/sunlinsol_dense.c -o stan/lib/stan_math/lib/sundials_6.0.0/src/sunlinsol/dense/sunlinsol_dense.o\n",
            "g++ -pipe   -pthread -D_REENTRANT  -O3 -I stan/lib/stan_math/lib/sundials_6.0.0/include -I stan/lib/stan_math/lib/sundials_6.0.0/src/sundials -DNO_FPRINTF_OUTPUT     -O3  -c -x c -include stan/lib/stan_math/lib/sundials_6.0.0/include/stan_sundials_printf_override.hpp stan/lib/stan_math/lib/sundials_6.0.0/src/sunnonlinsol/newton/sunnonlinsol_newton.c -o stan/lib/stan_math/lib/sundials_6.0.0/src/sunnonlinsol/newton/sunnonlinsol_newton.o\n",
            "g++ -pipe   -pthread -D_REENTRANT  -O3 -I stan/lib/stan_math/lib/sundials_6.0.0/include -I stan/lib/stan_math/lib/sundials_6.0.0/src/sundials -DNO_FPRINTF_OUTPUT     -O3  -c -x c -include stan/lib/stan_math/lib/sundials_6.0.0/include/stan_sundials_printf_override.hpp stan/lib/stan_math/lib/sundials_6.0.0/src/sunnonlinsol/fixedpoint/sunnonlinsol_fixedpoint.c -o stan/lib/stan_math/lib/sundials_6.0.0/src/sunnonlinsol/fixedpoint/sunnonlinsol_fixedpoint.o\n",
            "g++ -pipe   -pthread -D_REENTRANT  -O3 -I stan/lib/stan_math/lib/sundials_6.0.0/include -I stan/lib/stan_math/lib/sundials_6.0.0/src/sundials -DNO_FPRINTF_OUTPUT     -O3  -c -x c -include stan/lib/stan_math/lib/sundials_6.0.0/include/stan_sundials_printf_override.hpp stan/lib/stan_math/lib/sundials_6.0.0/src/idas/idas_spils.c -o stan/lib/stan_math/lib/sundials_6.0.0/src/idas/idas_spils.o\n",
            "g++ -pipe   -pthread -D_REENTRANT  -O3 -I stan/lib/stan_math/lib/sundials_6.0.0/include -I stan/lib/stan_math/lib/sundials_6.0.0/src/sundials -DNO_FPRINTF_OUTPUT     -O3  -c -x c -include stan/lib/stan_math/lib/sundials_6.0.0/include/stan_sundials_printf_override.hpp stan/lib/stan_math/lib/sundials_6.0.0/src/idas/idas_ic.c -o stan/lib/stan_math/lib/sundials_6.0.0/src/idas/idas_ic.o\n",
            "g++ -pipe   -pthread -D_REENTRANT  -O3 -I stan/lib/stan_math/lib/sundials_6.0.0/include -I stan/lib/stan_math/lib/sundials_6.0.0/src/sundials -DNO_FPRINTF_OUTPUT     -O3  -c -x c -include stan/lib/stan_math/lib/sundials_6.0.0/include/stan_sundials_printf_override.hpp stan/lib/stan_math/lib/sundials_6.0.0/src/idas/idaa_io.c -o stan/lib/stan_math/lib/sundials_6.0.0/src/idas/idaa_io.o\n",
            "g++ -pipe   -pthread -D_REENTRANT  -O3 -I stan/lib/stan_math/lib/sundials_6.0.0/include -I stan/lib/stan_math/lib/sundials_6.0.0/src/sundials -DNO_FPRINTF_OUTPUT     -O3  -c -x c -include stan/lib/stan_math/lib/sundials_6.0.0/include/stan_sundials_printf_override.hpp stan/lib/stan_math/lib/sundials_6.0.0/src/idas/idas_direct.c -o stan/lib/stan_math/lib/sundials_6.0.0/src/idas/idas_direct.o\n",
            "g++ -pipe   -pthread -D_REENTRANT  -O3 -I stan/lib/stan_math/lib/sundials_6.0.0/include -I stan/lib/stan_math/lib/sundials_6.0.0/src/sundials -DNO_FPRINTF_OUTPUT     -O3  -c -x c -include stan/lib/stan_math/lib/sundials_6.0.0/include/stan_sundials_printf_override.hpp stan/lib/stan_math/lib/sundials_6.0.0/src/idas/idas_ls.c -o stan/lib/stan_math/lib/sundials_6.0.0/src/idas/idas_ls.o\n",
            "g++ -pipe   -pthread -D_REENTRANT  -O3 -I stan/lib/stan_math/lib/sundials_6.0.0/include -I stan/lib/stan_math/lib/sundials_6.0.0/src/sundials -DNO_FPRINTF_OUTPUT     -O3  -c -x c -include stan/lib/stan_math/lib/sundials_6.0.0/include/stan_sundials_printf_override.hpp stan/lib/stan_math/lib/sundials_6.0.0/src/idas/idas_nls_stg.c -o stan/lib/stan_math/lib/sundials_6.0.0/src/idas/idas_nls_stg.o\n",
            "g++ -pipe   -pthread -D_REENTRANT  -O3 -I stan/lib/stan_math/lib/sundials_6.0.0/include -I stan/lib/stan_math/lib/sundials_6.0.0/src/sundials -DNO_FPRINTF_OUTPUT     -O3  -c -x c -include stan/lib/stan_math/lib/sundials_6.0.0/include/stan_sundials_printf_override.hpp stan/lib/stan_math/lib/sundials_6.0.0/src/idas/idas_bbdpre.c -o stan/lib/stan_math/lib/sundials_6.0.0/src/idas/idas_bbdpre.o\n",
            "g++ -pipe   -pthread -D_REENTRANT  -O3 -I stan/lib/stan_math/lib/sundials_6.0.0/include -I stan/lib/stan_math/lib/sundials_6.0.0/src/sundials -DNO_FPRINTF_OUTPUT     -O3  -c -x c -include stan/lib/stan_math/lib/sundials_6.0.0/include/stan_sundials_printf_override.hpp stan/lib/stan_math/lib/sundials_6.0.0/src/idas/idas_io.c -o stan/lib/stan_math/lib/sundials_6.0.0/src/idas/idas_io.o\n",
            "g++ -pipe   -pthread -D_REENTRANT  -O3 -I stan/lib/stan_math/lib/sundials_6.0.0/include -I stan/lib/stan_math/lib/sundials_6.0.0/src/sundials -DNO_FPRINTF_OUTPUT     -O3  -c -x c -include stan/lib/stan_math/lib/sundials_6.0.0/include/stan_sundials_printf_override.hpp stan/lib/stan_math/lib/sundials_6.0.0/src/idas/idas.c -o stan/lib/stan_math/lib/sundials_6.0.0/src/idas/idas.o\n",
            "g++ -pipe   -pthread -D_REENTRANT  -O3 -I stan/lib/stan_math/lib/sundials_6.0.0/include -I stan/lib/stan_math/lib/sundials_6.0.0/src/sundials -DNO_FPRINTF_OUTPUT     -O3  -c -x c -include stan/lib/stan_math/lib/sundials_6.0.0/include/stan_sundials_printf_override.hpp stan/lib/stan_math/lib/sundials_6.0.0/src/idas/idaa.c -o stan/lib/stan_math/lib/sundials_6.0.0/src/idas/idaa.o\n",
            "g++ -pipe   -pthread -D_REENTRANT  -O3 -I stan/lib/stan_math/lib/sundials_6.0.0/include -I stan/lib/stan_math/lib/sundials_6.0.0/src/sundials -DNO_FPRINTF_OUTPUT     -O3  -c -x c -include stan/lib/stan_math/lib/sundials_6.0.0/include/stan_sundials_printf_override.hpp stan/lib/stan_math/lib/sundials_6.0.0/src/idas/idas_nls.c -o stan/lib/stan_math/lib/sundials_6.0.0/src/idas/idas_nls.o\n",
            "g++ -pipe   -pthread -D_REENTRANT  -O3 -I stan/lib/stan_math/lib/sundials_6.0.0/include -I stan/lib/stan_math/lib/sundials_6.0.0/src/sundials -DNO_FPRINTF_OUTPUT     -O3  -c -x c -include stan/lib/stan_math/lib/sundials_6.0.0/include/stan_sundials_printf_override.hpp stan/lib/stan_math/lib/sundials_6.0.0/src/idas/idas_nls_sim.c -o stan/lib/stan_math/lib/sundials_6.0.0/src/idas/idas_nls_sim.o\n",
            "g++ -pipe   -pthread -D_REENTRANT  -O3 -I stan/lib/stan_math/lib/sundials_6.0.0/include -I stan/lib/stan_math/lib/sundials_6.0.0/src/sundials -DNO_FPRINTF_OUTPUT     -O3  -c -x c -include stan/lib/stan_math/lib/sundials_6.0.0/include/stan_sundials_printf_override.hpp stan/lib/stan_math/lib/sundials_6.0.0/src/kinsol/kinsol_direct.c -o stan/lib/stan_math/lib/sundials_6.0.0/src/kinsol/kinsol_direct.o\n",
            "g++ -pipe   -pthread -D_REENTRANT  -O3 -I stan/lib/stan_math/lib/sundials_6.0.0/include -I stan/lib/stan_math/lib/sundials_6.0.0/src/sundials -DNO_FPRINTF_OUTPUT     -O3  -c -x c -include stan/lib/stan_math/lib/sundials_6.0.0/include/stan_sundials_printf_override.hpp stan/lib/stan_math/lib/sundials_6.0.0/src/kinsol/kinsol_bbdpre.c -o stan/lib/stan_math/lib/sundials_6.0.0/src/kinsol/kinsol_bbdpre.o\n",
            "g++ -pipe   -pthread -D_REENTRANT  -O3 -I stan/lib/stan_math/lib/sundials_6.0.0/include -I stan/lib/stan_math/lib/sundials_6.0.0/src/sundials -DNO_FPRINTF_OUTPUT     -O3  -c -x c -include stan/lib/stan_math/lib/sundials_6.0.0/include/stan_sundials_printf_override.hpp stan/lib/stan_math/lib/sundials_6.0.0/src/kinsol/kinsol.c -o stan/lib/stan_math/lib/sundials_6.0.0/src/kinsol/kinsol.o\n",
            "g++ -pipe   -pthread -D_REENTRANT  -O3 -I stan/lib/stan_math/lib/sundials_6.0.0/include -I stan/lib/stan_math/lib/sundials_6.0.0/src/sundials -DNO_FPRINTF_OUTPUT     -O3  -c -x c -include stan/lib/stan_math/lib/sundials_6.0.0/include/stan_sundials_printf_override.hpp stan/lib/stan_math/lib/sundials_6.0.0/src/kinsol/kinsol_ls.c -o stan/lib/stan_math/lib/sundials_6.0.0/src/kinsol/kinsol_ls.o\n",
            "g++ -pipe   -pthread -D_REENTRANT  -O3 -I stan/lib/stan_math/lib/sundials_6.0.0/include -I stan/lib/stan_math/lib/sundials_6.0.0/src/sundials -DNO_FPRINTF_OUTPUT     -O3  -c -x c -include stan/lib/stan_math/lib/sundials_6.0.0/include/stan_sundials_printf_override.hpp stan/lib/stan_math/lib/sundials_6.0.0/src/kinsol/kinsol_spils.c -o stan/lib/stan_math/lib/sundials_6.0.0/src/kinsol/kinsol_spils.o\n",
            "g++ -pipe   -pthread -D_REENTRANT  -O3 -I stan/lib/stan_math/lib/sundials_6.0.0/include -I stan/lib/stan_math/lib/sundials_6.0.0/src/sundials -DNO_FPRINTF_OUTPUT     -O3  -c -x c -include stan/lib/stan_math/lib/sundials_6.0.0/include/stan_sundials_printf_override.hpp stan/lib/stan_math/lib/sundials_6.0.0/src/kinsol/kinsol_io.c -o stan/lib/stan_math/lib/sundials_6.0.0/src/kinsol/kinsol_io.o\n",
            "touch stan/lib/stan_math/lib/tbb/tbb-make-check\n",
            "\n",
            "\n",
            "--- Compiling the main object file. This might take up to a minute. ---\n",
            "--- Compiling pre-compiled header. This might take a few seconds. ---\n",
            "g++ -std=c++1y -pthread -D_REENTRANT -Wno-sign-compare -Wno-ignored-attributes      -I stan/lib/stan_math/lib/tbb_2020.3/include    -O3 -I src -I stan/src -I lib/rapidjson_1.1.0/ -I lib/CLI11-1.9.1/ -I stan/lib/stan_math/ -I stan/lib/stan_math/lib/eigen_3.3.9 -I stan/lib/stan_math/lib/boost_1.75.0 -I stan/lib/stan_math/lib/sundials_6.0.0/include -I stan/lib/stan_math/lib/sundials_6.0.0/src/sundials    -DBOOST_DISABLE_ASSERTS          -c stan/src/stan/model/model_header.hpp -o stan/src/stan/model/model_header.hpp.gch\n",
            "g++ -std=c++1y -pthread -D_REENTRANT -Wno-sign-compare -Wno-ignored-attributes      -I stan/lib/stan_math/lib/tbb_2020.3/include    -O3 -I src -I stan/src -I lib/rapidjson_1.1.0/ -I lib/CLI11-1.9.1/ -I stan/lib/stan_math/ -I stan/lib/stan_math/lib/eigen_3.3.9 -I stan/lib/stan_math/lib/boost_1.75.0 -I stan/lib/stan_math/lib/sundials_6.0.0/include -I stan/lib/stan_math/lib/sundials_6.0.0/src/sundials    -DBOOST_DISABLE_ASSERTS          -c -o src/cmdstan/main.o src/cmdstan/main.cpp\n",
            "g++ -std=c++1y -pthread -D_REENTRANT -Wno-sign-compare -Wno-ignored-attributes      -I stan/lib/stan_math/lib/tbb_2020.3/include    -O3 -I src -I stan/src -I lib/rapidjson_1.1.0/ -I lib/CLI11-1.9.1/ -I stan/lib/stan_math/ -I stan/lib/stan_math/lib/eigen_3.3.9 -I stan/lib/stan_math/lib/boost_1.75.0 -I stan/lib/stan_math/lib/sundials_6.0.0/include -I stan/lib/stan_math/lib/sundials_6.0.0/src/sundials    -DBOOST_DISABLE_ASSERTS          -c -fvisibility=hidden -o bin/cmdstan/stansummary.o        -Wl,-L,\"/root/.cmdstan/cmdstan-2.29.1/stan/lib/stan_math/lib/tbb\" -Wl,-rpath,\"/root/.cmdstan/cmdstan-2.29.1/stan/lib/stan_math/lib/tbb\"   src/cmdstan/stansummary.cpp\n",
            "g++ -std=c++1y -pthread -D_REENTRANT -Wno-sign-compare -Wno-ignored-attributes      -I stan/lib/stan_math/lib/tbb_2020.3/include    -O3 -I src -I stan/src -I lib/rapidjson_1.1.0/ -I lib/CLI11-1.9.1/ -I stan/lib/stan_math/ -I stan/lib/stan_math/lib/eigen_3.3.9 -I stan/lib/stan_math/lib/boost_1.75.0 -I stan/lib/stan_math/lib/sundials_6.0.0/include -I stan/lib/stan_math/lib/sundials_6.0.0/src/sundials    -DBOOST_DISABLE_ASSERTS          -c -fvisibility=hidden -o bin/cmdstan/print.o        -Wl,-L,\"/root/.cmdstan/cmdstan-2.29.1/stan/lib/stan_math/lib/tbb\" -Wl,-rpath,\"/root/.cmdstan/cmdstan-2.29.1/stan/lib/stan_math/lib/tbb\"   src/cmdstan/print.cpp\n",
            "g++ -std=c++1y -pthread -D_REENTRANT -Wno-sign-compare -Wno-ignored-attributes      -I stan/lib/stan_math/lib/tbb_2020.3/include    -O3 -I src -I stan/src -I lib/rapidjson_1.1.0/ -I lib/CLI11-1.9.1/ -I stan/lib/stan_math/ -I stan/lib/stan_math/lib/eigen_3.3.9 -I stan/lib/stan_math/lib/boost_1.75.0 -I stan/lib/stan_math/lib/sundials_6.0.0/include -I stan/lib/stan_math/lib/sundials_6.0.0/src/sundials    -DBOOST_DISABLE_ASSERTS          -c -fvisibility=hidden -o bin/cmdstan/diagnose.o        -Wl,-L,\"/root/.cmdstan/cmdstan-2.29.1/stan/lib/stan_math/lib/tbb\" -Wl,-rpath,\"/root/.cmdstan/cmdstan-2.29.1/stan/lib/stan_math/lib/tbb\"   src/cmdstan/diagnose.cpp\n",
            "ar -rs stan/lib/stan_math/lib/sundials_6.0.0/lib/libsundials_nvecserial.a stan/lib/stan_math/lib/sundials_6.0.0/src/nvector/serial/nvector_serial.o stan/lib/stan_math/lib/sundials_6.0.0/src/sundials/sundials_math.o\n",
            "\u001b[31mar: \u001b[39m\u001b[31mcreating stan/lib/stan_math/lib/sundials_6.0.0/lib/libsundials_nvecserial.a\u001b[39m\u001b[31m\n",
            "\u001b[39mar -rs stan/lib/stan_math/lib/sundials_6.0.0/lib/libsundials_cvodes.a stan/lib/stan_math/lib/sundials_6.0.0/src/cvodes/cvodes_nls.o stan/lib/stan_math/lib/sundials_6.0.0/src/cvodes/cvodes_diag.o stan/lib/stan_math/lib/sundials_6.0.0/src/cvodes/cvodes_direct.o stan/lib/stan_math/lib/sundials_6.0.0/src/cvodes/cvodea.o stan/lib/stan_math/lib/sundials_6.0.0/src/cvodes/cvodes_nls_stg.o stan/lib/stan_math/lib/sundials_6.0.0/src/cvodes/cvodes_bbdpre.o stan/lib/stan_math/lib/sundials_6.0.0/src/cvodes/cvodes_bandpre.o stan/lib/stan_math/lib/sundials_6.0.0/src/cvodes/cvodes_io.o stan/lib/stan_math/lib/sundials_6.0.0/src/cvodes/cvodes_spils.o stan/lib/stan_math/lib/sundials_6.0.0/src/cvodes/cvodea_io.o stan/lib/stan_math/lib/sundials_6.0.0/src/cvodes/cvodes.o stan/lib/stan_math/lib/sundials_6.0.0/src/cvodes/cvodes_ls.o stan/lib/stan_math/lib/sundials_6.0.0/src/cvodes/cvodes_nls_sim.o stan/lib/stan_math/lib/sundials_6.0.0/src/cvodes/cvodes_nls_stg1.o stan/lib/stan_math/lib/sundials_6.0.0/src/sundials/sundials_matrix.o stan/lib/stan_math/lib/sundials_6.0.0/src/sundials/sundials_futils.o stan/lib/stan_math/lib/sundials_6.0.0/src/sundials/sundials_nonlinearsolver.o stan/lib/stan_math/lib/sundials_6.0.0/src/sundials/sundials_version.o stan/lib/stan_math/lib/sundials_6.0.0/src/sundials/sundials_band.o stan/lib/stan_math/lib/sundials_6.0.0/src/sundials/sundials_direct.o stan/lib/stan_math/lib/sundials_6.0.0/src/sundials/sundials_iterative.o stan/lib/stan_math/lib/sundials_6.0.0/src/sundials/sundials_linearsolver.o stan/lib/stan_math/lib/sundials_6.0.0/src/sundials/sundials_math.o stan/lib/stan_math/lib/sundials_6.0.0/src/sundials/sundials_memory.o stan/lib/stan_math/lib/sundials_6.0.0/src/sundials/sundials_context.o stan/lib/stan_math/lib/sundials_6.0.0/src/sundials/sundials_nvector.o stan/lib/stan_math/lib/sundials_6.0.0/src/sundials/sundials_nvector_senswrapper.o stan/lib/stan_math/lib/sundials_6.0.0/src/sundials/sundials_dense.o stan/lib/stan_math/lib/sundials_6.0.0/src/sunmatrix/band/sunmatrix_band.o stan/lib/stan_math/lib/sundials_6.0.0/src/sunmatrix/dense/sunmatrix_dense.o stan/lib/stan_math/lib/sundials_6.0.0/src/sunlinsol/band/sunlinsol_band.o stan/lib/stan_math/lib/sundials_6.0.0/src/sunlinsol/dense/sunlinsol_dense.o stan/lib/stan_math/lib/sundials_6.0.0/src/sunnonlinsol/newton/sunnonlinsol_newton.o stan/lib/stan_math/lib/sundials_6.0.0/src/sunnonlinsol/fixedpoint/sunnonlinsol_fixedpoint.o\n",
            "\u001b[31mar: \u001b[39m\u001b[31mcreating stan/lib/stan_math/lib/sundials_6.0.0/lib/libsundials_cvodes.a\u001b[39m\u001b[31m\n",
            "\u001b[39mar -rs stan/lib/stan_math/lib/sundials_6.0.0/lib/libsundials_idas.a stan/lib/stan_math/lib/sundials_6.0.0/src/idas/idas_spils.o stan/lib/stan_math/lib/sundials_6.0.0/src/idas/idas_ic.o stan/lib/stan_math/lib/sundials_6.0.0/src/idas/idaa_io.o stan/lib/stan_math/lib/sundials_6.0.0/src/idas/idas_direct.o stan/lib/stan_math/lib/sundials_6.0.0/src/idas/idas_ls.o stan/lib/stan_math/lib/sundials_6.0.0/src/idas/idas_nls_stg.o stan/lib/stan_math/lib/sundials_6.0.0/src/idas/idas_bbdpre.o stan/lib/stan_math/lib/sundials_6.0.0/src/idas/idas_io.o stan/lib/stan_math/lib/sundials_6.0.0/src/idas/idas.o stan/lib/stan_math/lib/sundials_6.0.0/src/idas/idaa.o stan/lib/stan_math/lib/sundials_6.0.0/src/idas/idas_nls.o stan/lib/stan_math/lib/sundials_6.0.0/src/idas/idas_nls_sim.o stan/lib/stan_math/lib/sundials_6.0.0/src/sundials/sundials_matrix.o stan/lib/stan_math/lib/sundials_6.0.0/src/sundials/sundials_futils.o stan/lib/stan_math/lib/sundials_6.0.0/src/sundials/sundials_nonlinearsolver.o stan/lib/stan_math/lib/sundials_6.0.0/src/sundials/sundials_version.o stan/lib/stan_math/lib/sundials_6.0.0/src/sundials/sundials_band.o stan/lib/stan_math/lib/sundials_6.0.0/src/sundials/sundials_direct.o stan/lib/stan_math/lib/sundials_6.0.0/src/sundials/sundials_iterative.o stan/lib/stan_math/lib/sundials_6.0.0/src/sundials/sundials_linearsolver.o stan/lib/stan_math/lib/sundials_6.0.0/src/sundials/sundials_math.o stan/lib/stan_math/lib/sundials_6.0.0/src/sundials/sundials_memory.o stan/lib/stan_math/lib/sundials_6.0.0/src/sundials/sundials_context.o stan/lib/stan_math/lib/sundials_6.0.0/src/sundials/sundials_nvector.o stan/lib/stan_math/lib/sundials_6.0.0/src/sundials/sundials_nvector_senswrapper.o stan/lib/stan_math/lib/sundials_6.0.0/src/sundials/sundials_dense.o stan/lib/stan_math/lib/sundials_6.0.0/src/sunmatrix/band/sunmatrix_band.o stan/lib/stan_math/lib/sundials_6.0.0/src/sunmatrix/dense/sunmatrix_dense.o stan/lib/stan_math/lib/sundials_6.0.0/src/sunlinsol/band/sunlinsol_band.o stan/lib/stan_math/lib/sundials_6.0.0/src/sunlinsol/dense/sunlinsol_dense.o stan/lib/stan_math/lib/sundials_6.0.0/src/sunnonlinsol/newton/sunnonlinsol_newton.o stan/lib/stan_math/lib/sundials_6.0.0/src/sunnonlinsol/fixedpoint/sunnonlinsol_fixedpoint.o\n",
            "\u001b[31mar: \u001b[39m\u001b[31mcreating stan/lib/stan_math/lib/sundials_6.0.0/lib/libsundials_idas.a\u001b[39m\u001b[31m\n",
            "\u001b[39mar -rs stan/lib/stan_math/lib/sundials_6.0.0/lib/libsundials_kinsol.a stan/lib/stan_math/lib/sundials_6.0.0/src/kinsol/kinsol_direct.o stan/lib/stan_math/lib/sundials_6.0.0/src/kinsol/kinsol_bbdpre.o stan/lib/stan_math/lib/sundials_6.0.0/src/kinsol/kinsol.o stan/lib/stan_math/lib/sundials_6.0.0/src/kinsol/kinsol_ls.o stan/lib/stan_math/lib/sundials_6.0.0/src/kinsol/kinsol_spils.o stan/lib/stan_math/lib/sundials_6.0.0/src/kinsol/kinsol_io.o stan/lib/stan_math/lib/sundials_6.0.0/src/sundials/sundials_matrix.o stan/lib/stan_math/lib/sundials_6.0.0/src/sundials/sundials_futils.o stan/lib/stan_math/lib/sundials_6.0.0/src/sundials/sundials_nonlinearsolver.o stan/lib/stan_math/lib/sundials_6.0.0/src/sundials/sundials_version.o stan/lib/stan_math/lib/sundials_6.0.0/src/sundials/sundials_band.o stan/lib/stan_math/lib/sundials_6.0.0/src/sundials/sundials_direct.o stan/lib/stan_math/lib/sundials_6.0.0/src/sundials/sundials_iterative.o stan/lib/stan_math/lib/sundials_6.0.0/src/sundials/sundials_linearsolver.o stan/lib/stan_math/lib/sundials_6.0.0/src/sundials/sundials_math.o stan/lib/stan_math/lib/sundials_6.0.0/src/sundials/sundials_memory.o stan/lib/stan_math/lib/sundials_6.0.0/src/sundials/sundials_context.o stan/lib/stan_math/lib/sundials_6.0.0/src/sundials/sundials_nvector.o stan/lib/stan_math/lib/sundials_6.0.0/src/sundials/sundials_nvector_senswrapper.o stan/lib/stan_math/lib/sundials_6.0.0/src/sundials/sundials_dense.o stan/lib/stan_math/lib/sundials_6.0.0/src/sunmatrix/band/sunmatrix_band.o stan/lib/stan_math/lib/sundials_6.0.0/src/sunmatrix/dense/sunmatrix_dense.o stan/lib/stan_math/lib/sundials_6.0.0/src/sunlinsol/band/sunlinsol_band.o stan/lib/stan_math/lib/sundials_6.0.0/src/sunlinsol/dense/sunlinsol_dense.o stan/lib/stan_math/lib/sundials_6.0.0/src/sunnonlinsol/newton/sunnonlinsol_newton.o stan/lib/stan_math/lib/sundials_6.0.0/src/sunnonlinsol/fixedpoint/sunnonlinsol_fixedpoint.o\n",
            "\u001b[31mar: \u001b[39m\u001b[31mcreating stan/lib/stan_math/lib/sundials_6.0.0/lib/libsundials_kinsol.a\u001b[39m\u001b[31m\n",
            "\u001b[39mtbb_root=\"../tbb_2020.3\" CXX=\"g++\" CC=\"gcc\" LDFLAGS='-Wl,-L,\"/root/.cmdstan/cmdstan-2.29.1/stan/lib/stan_math/lib/tbb\" -Wl,-rpath,\"/root/.cmdstan/cmdstan-2.29.1/stan/lib/stan_math/lib/tbb\"  ' 'make' -C \"stan/lib/stan_math/lib/tbb\" -r -f \"/root/.cmdstan/cmdstan-2.29.1/stan/lib/stan_math/lib/tbb_2020.3/build/Makefile.tbbmalloc\" compiler=gcc cfg=release stdver=c++1y malloc CXXFLAGS=\"-Wno-unknown-warning-option -Wno-deprecated-copy -Wno-missing-attributes -Wno-class-memaccess -Wno-sized-deallocation  \"\n",
            "make[1]: Entering directory '/root/.cmdstan/cmdstan-2.29.1/stan/lib/stan_math/lib/tbb'\n",
            "g++ -c -MMD -O2 -g -DDO_ITT_NOTIFY -DUSE_PTHREAD -pthread -m64 -mrtm   -Wno-unknown-warning-option -Wno-deprecated-copy -Wno-missing-attributes -Wno-class-memaccess -Wno-sized-deallocation   -DTBB_SUPPRESS_DEPRECATED_MESSAGES=1 -fno-rtti -fno-exceptions -D__TBBMALLOC_BUILD=1 -Wno-parentheses -Wno-sized-deallocation -fPIC -flifetime-dse=1 -I../tbb_2020.3/src -I../tbb_2020.3/src/rml/include -I../tbb_2020.3/include -I../tbb_2020.3/src/tbbmalloc -I../tbb_2020.3/src/tbbmalloc ../tbb_2020.3/src/tbbmalloc/backend.cpp\n",
            "g++ -c -MMD -O2 -g -DDO_ITT_NOTIFY -DUSE_PTHREAD -pthread -m64 -mrtm   -Wno-unknown-warning-option -Wno-deprecated-copy -Wno-missing-attributes -Wno-class-memaccess -Wno-sized-deallocation   -DTBB_SUPPRESS_DEPRECATED_MESSAGES=1 -fno-rtti -fno-exceptions -D__TBBMALLOC_BUILD=1 -Wno-parentheses -Wno-sized-deallocation -fPIC -flifetime-dse=1 -I../tbb_2020.3/src -I../tbb_2020.3/src/rml/include -I../tbb_2020.3/include -I../tbb_2020.3/src/tbbmalloc -I../tbb_2020.3/src/tbbmalloc ../tbb_2020.3/src/tbbmalloc/large_objects.cpp\n",
            "g++ -c -MMD -O2 -g -DDO_ITT_NOTIFY -DUSE_PTHREAD -pthread -m64 -mrtm   -Wno-unknown-warning-option -Wno-deprecated-copy -Wno-missing-attributes -Wno-class-memaccess -Wno-sized-deallocation   -DTBB_SUPPRESS_DEPRECATED_MESSAGES=1 -fno-rtti -fno-exceptions -D__TBBMALLOC_BUILD=1 -Wno-parentheses -Wno-sized-deallocation -fPIC -flifetime-dse=1 -I../tbb_2020.3/src -I../tbb_2020.3/src/rml/include -I../tbb_2020.3/include -I../tbb_2020.3/src/tbbmalloc -I../tbb_2020.3/src/tbbmalloc ../tbb_2020.3/src/tbbmalloc/backref.cpp\n",
            "g++ -c -MMD -O2 -g -DDO_ITT_NOTIFY -DUSE_PTHREAD -pthread -m64 -mrtm   -Wno-unknown-warning-option -Wno-deprecated-copy -Wno-missing-attributes -Wno-class-memaccess -Wno-sized-deallocation   -DTBB_SUPPRESS_DEPRECATED_MESSAGES=1 -fno-rtti -fno-exceptions -D__TBBMALLOC_BUILD=1 -Wno-parentheses -Wno-sized-deallocation -fPIC -flifetime-dse=1 -I../tbb_2020.3/src -I../tbb_2020.3/src/rml/include -I../tbb_2020.3/include -I../tbb_2020.3/src/tbbmalloc -I../tbb_2020.3/src/tbbmalloc ../tbb_2020.3/src/tbbmalloc/tbbmalloc.cpp\n",
            "g++ -c -MMD -O2 -g -DDO_ITT_NOTIFY -DUSE_PTHREAD -pthread -m64 -mrtm   -Wno-unknown-warning-option -Wno-deprecated-copy -Wno-missing-attributes -Wno-class-memaccess -Wno-sized-deallocation   -DTBB_SUPPRESS_DEPRECATED_MESSAGES=1 -fno-rtti -fno-exceptions -D__TBBMALLOC_BUILD=1 -Wno-parentheses -Wno-sized-deallocation -fPIC -flifetime-dse=1 -o itt_notify_malloc.o -I../tbb_2020.3/src -I../tbb_2020.3/src/rml/include -I../tbb_2020.3/include ../tbb_2020.3/src/tbb/itt_notify.cpp\n",
            "g++ -std=c++1y -pthread -D_REENTRANT -Wno-sign-compare -Wno-ignored-attributes      -I stan/lib/stan_math/lib/tbb_2020.3/include    -O3 -I src -I stan/src -I lib/rapidjson_1.1.0/ -I lib/CLI11-1.9.1/ -I stan/lib/stan_math/ -I stan/lib/stan_math/lib/eigen_3.3.9 -I stan/lib/stan_math/lib/boost_1.75.0 -I stan/lib/stan_math/lib/sundials_6.0.0/include -I stan/lib/stan_math/lib/sundials_6.0.0/src/sundials    -DBOOST_DISABLE_ASSERTS                -Wl,-L,\"/root/.cmdstan/cmdstan-2.29.1/stan/lib/stan_math/lib/tbb\" -Wl,-rpath,\"/root/.cmdstan/cmdstan-2.29.1/stan/lib/stan_math/lib/tbb\"      bin/cmdstan/stansummary.o        -Wl,-L,\"/root/.cmdstan/cmdstan-2.29.1/stan/lib/stan_math/lib/tbb\" -Wl,-rpath,\"/root/.cmdstan/cmdstan-2.29.1/stan/lib/stan_math/lib/tbb\"   -o bin/stansummary\n",
            "g++ -std=c++1y -pthread -D_REENTRANT -Wno-sign-compare -Wno-ignored-attributes      -I stan/lib/stan_math/lib/tbb_2020.3/include    -O3 -I src -I stan/src -I lib/rapidjson_1.1.0/ -I lib/CLI11-1.9.1/ -I stan/lib/stan_math/ -I stan/lib/stan_math/lib/eigen_3.3.9 -I stan/lib/stan_math/lib/boost_1.75.0 -I stan/lib/stan_math/lib/sundials_6.0.0/include -I stan/lib/stan_math/lib/sundials_6.0.0/src/sundials    -DBOOST_DISABLE_ASSERTS                -Wl,-L,\"/root/.cmdstan/cmdstan-2.29.1/stan/lib/stan_math/lib/tbb\" -Wl,-rpath,\"/root/.cmdstan/cmdstan-2.29.1/stan/lib/stan_math/lib/tbb\"      bin/cmdstan/print.o        -Wl,-L,\"/root/.cmdstan/cmdstan-2.29.1/stan/lib/stan_math/lib/tbb\" -Wl,-rpath,\"/root/.cmdstan/cmdstan-2.29.1/stan/lib/stan_math/lib/tbb\"   -o bin/print\n",
            "g++ -std=c++1y -pthread -D_REENTRANT -Wno-sign-compare -Wno-ignored-attributes      -I stan/lib/stan_math/lib/tbb_2020.3/include    -O3 -I src -I stan/src -I lib/rapidjson_1.1.0/ -I lib/CLI11-1.9.1/ -I stan/lib/stan_math/ -I stan/lib/stan_math/lib/eigen_3.3.9 -I stan/lib/stan_math/lib/boost_1.75.0 -I stan/lib/stan_math/lib/sundials_6.0.0/include -I stan/lib/stan_math/lib/sundials_6.0.0/src/sundials    -DBOOST_DISABLE_ASSERTS                -Wl,-L,\"/root/.cmdstan/cmdstan-2.29.1/stan/lib/stan_math/lib/tbb\" -Wl,-rpath,\"/root/.cmdstan/cmdstan-2.29.1/stan/lib/stan_math/lib/tbb\"      bin/cmdstan/diagnose.o        -Wl,-L,\"/root/.cmdstan/cmdstan-2.29.1/stan/lib/stan_math/lib/tbb\" -Wl,-rpath,\"/root/.cmdstan/cmdstan-2.29.1/stan/lib/stan_math/lib/tbb\"   -o bin/diagnose\n",
            "sh ../tbb_2020.3/build/version_info_linux.sh g++ -O2 -g -DDO_ITT_NOTIFY -DUSE_PTHREAD -pthread -m64 -mrtm  -Wall -Wextra -Wno-unknown-warning-option -Wno-deprecated-copy -Wno-missing-attributes -Wno-class-memaccess -Wno-sized-deallocation   -DTBB_SUPPRESS_DEPRECATED_MESSAGES=1  -std=c++1y -I../tbb_2020.3/src -I../tbb_2020.3/src/rml/include -I../tbb_2020.3/include >version_string.ver\n",
            "echo \"INPUT (libtbbmalloc.so.2)\" > libtbbmalloc.so\n",
            "g++ -E -x c++ ../tbb_2020.3/src/tbbmalloc/lin64-tbbmalloc-export.def -O2 -g -DDO_ITT_NOTIFY -DUSE_PTHREAD -pthread -m64 -mrtm  -Wall -Wextra -Wno-unknown-warning-option -Wno-deprecated-copy -Wno-missing-attributes -Wno-class-memaccess -Wno-sized-deallocation   -DTBB_SUPPRESS_DEPRECATED_MESSAGES=1  -fno-rtti -fno-exceptions -D__TBBMALLOC_BUILD=1  -Wno-parentheses -Wno-sized-deallocation -I../tbb_2020.3/src -I../tbb_2020.3/src/rml/include -I../tbb_2020.3/include > tbbmalloc.def\n",
            "g++ -c -MMD -O2 -g -DDO_ITT_NOTIFY -DUSE_PTHREAD -pthread -m64 -mrtm  -Wall -Wextra -Wno-unknown-warning-option -Wno-deprecated-copy -Wno-missing-attributes -Wno-class-memaccess -Wno-sized-deallocation   -DTBB_SUPPRESS_DEPRECATED_MESSAGES=1  -Wno-parentheses -Wno-sized-deallocation -fPIC -flifetime-dse=1 -D__TBBMALLOC_BUILD=1 -I../tbb_2020.3/src -I../tbb_2020.3/src/rml/include -I../tbb_2020.3/include -I../tbb_2020.3/src/tbbmalloc -I../tbb_2020.3/src/tbbmalloc ../tbb_2020.3/src/tbbmalloc/proxy.cpp\n",
            "g++ -c -MMD -O2 -g -DDO_ITT_NOTIFY -DUSE_PTHREAD -pthread -m64 -mrtm  -Wall -Wextra -Wno-unknown-warning-option -Wno-deprecated-copy -Wno-missing-attributes -Wno-class-memaccess -Wno-sized-deallocation   -DTBB_SUPPRESS_DEPRECATED_MESSAGES=1  -Wno-parentheses -Wno-sized-deallocation -fPIC -flifetime-dse=1 -D__TBBMALLOC_BUILD=1 -I../tbb_2020.3/src -I../tbb_2020.3/src/rml/include -I../tbb_2020.3/include -I../tbb_2020.3/src/tbbmalloc -I../tbb_2020.3/src/tbbmalloc ../tbb_2020.3/src/tbbmalloc/tbb_function_replacement.cpp\n",
            "echo \"INPUT (libtbbmalloc_proxy.so.2)\" > libtbbmalloc_proxy.so\n",
            "g++ -E -x c++ ../tbb_2020.3/src/tbbmalloc/lin64-proxy-export.def -O2 -g -DDO_ITT_NOTIFY -DUSE_PTHREAD -pthread -m64 -mrtm  -Wall -Wextra -Wno-unknown-warning-option -Wno-deprecated-copy -Wno-missing-attributes -Wno-class-memaccess -Wno-sized-deallocation   -DTBB_SUPPRESS_DEPRECATED_MESSAGES=1  -Wno-parentheses -Wno-sized-deallocation -I../tbb_2020.3/src -I../tbb_2020.3/src/rml/include -I../tbb_2020.3/include > tbbmallocproxy.def\n",
            "g++ -c -MMD -O2 -g -DDO_ITT_NOTIFY -DUSE_PTHREAD -pthread -m64 -mrtm   -Wno-unknown-warning-option -Wno-deprecated-copy -Wno-missing-attributes -Wno-class-memaccess -Wno-sized-deallocation   -DTBB_SUPPRESS_DEPRECATED_MESSAGES=1 -fno-rtti -fno-exceptions -D__TBBMALLOC_BUILD=1 -Wno-parentheses -Wno-sized-deallocation -fPIC -flifetime-dse=1 -I../tbb_2020.3/src -I../tbb_2020.3/src/rml/include -I../tbb_2020.3/include -I../tbb_2020.3/src/tbbmalloc -I../tbb_2020.3/src/tbbmalloc -I. ../tbb_2020.3/src/tbbmalloc/frontend.cpp\n",
            "gcc -fPIC -o libtbbmalloc.so.2 backend.o large_objects.o backref.o  tbbmalloc.o  itt_notify_malloc.o frontend.o  -ldl -lrt -shared -Wl,-soname=libtbbmalloc.so.2 -pthread -m64 -Wl,-L,\"/root/.cmdstan/cmdstan-2.29.1/stan/lib/stan_math/lib/tbb\" -Wl,-rpath,\"/root/.cmdstan/cmdstan-2.29.1/stan/lib/stan_math/lib/tbb\"   -Wl,--version-script,tbbmalloc.def\n",
            "g++ -fPIC -o libtbbmalloc_proxy.so.2 proxy.o tbb_function_replacement.o  -ldl -lrt libtbbmalloc.so -shared -Wl,-soname=libtbbmalloc_proxy.so.2 -pthread -m64 -Wl,-L,\"/root/.cmdstan/cmdstan-2.29.1/stan/lib/stan_math/lib/tbb\" -Wl,-rpath,\"/root/.cmdstan/cmdstan-2.29.1/stan/lib/stan_math/lib/tbb\"   -Wl,--version-script,tbbmallocproxy.def\n",
            "make[1]: Leaving directory '/root/.cmdstan/cmdstan-2.29.1/stan/lib/stan_math/lib/tbb'\n",
            "touch stan/lib/stan_math/lib/tbb/version_tbb_2020.3\n",
            "tbb_root=\"../tbb_2020.3\" CXX=\"g++\" CC=\"gcc\" LDFLAGS='-Wl,-L,\"/root/.cmdstan/cmdstan-2.29.1/stan/lib/stan_math/lib/tbb\" -Wl,-rpath,\"/root/.cmdstan/cmdstan-2.29.1/stan/lib/stan_math/lib/tbb\"  ' 'make' -C \"stan/lib/stan_math/lib/tbb\" -r -f \"/root/.cmdstan/cmdstan-2.29.1/stan/lib/stan_math/lib/tbb_2020.3/build/Makefile.tbb\" compiler=gcc cfg=release stdver=c++1y  CXXFLAGS=\"-Wno-unknown-warning-option -Wno-deprecated-copy -Wno-missing-attributes -Wno-class-memaccess -Wno-sized-deallocation  \"\n",
            "make[1]: Entering directory '/root/.cmdstan/cmdstan-2.29.1/stan/lib/stan_math/lib/tbb'\n",
            "\u001b[31m/root/.cmdstan/cmdstan-2.29.1/stan/lib/stan_math/lib/tbb_2020.3/build/Makefile.tbb:28: CONFIG: cfg=release arch=intel64 compiler=gcc target=linux runtime=cc7.5.0_libc2.27_kernel5.4.144+\n",
            "\u001b[39mg++ -o concurrent_hash_map.o -c -MMD -O2 -g -DDO_ITT_NOTIFY -DUSE_PTHREAD -pthread -m64 -mrtm  -fPIC -flifetime-dse=1 -D__TBB_BUILD=1 -Wall -Wextra -Wno-parentheses -Wno-sized-deallocation -Wno-unknown-warning-option -Wno-deprecated-copy -Wno-missing-attributes -Wno-class-memaccess -Wno-sized-deallocation   -DTBB_SUPPRESS_DEPRECATED_MESSAGES=1 -std=c++1y  -I../tbb_2020.3/src -I../tbb_2020.3/src/rml/include -I../tbb_2020.3/include ../tbb_2020.3/src/tbb/concurrent_hash_map.cpp\n",
            "g++ -o concurrent_queue.o -c -MMD -O2 -g -DDO_ITT_NOTIFY -DUSE_PTHREAD -pthread -m64 -mrtm  -fPIC -flifetime-dse=1 -D__TBB_BUILD=1 -Wall -Wextra -Wno-parentheses -Wno-sized-deallocation -Wno-unknown-warning-option -Wno-deprecated-copy -Wno-missing-attributes -Wno-class-memaccess -Wno-sized-deallocation   -DTBB_SUPPRESS_DEPRECATED_MESSAGES=1 -std=c++1y  -I../tbb_2020.3/src -I../tbb_2020.3/src/rml/include -I../tbb_2020.3/include ../tbb_2020.3/src/tbb/concurrent_queue.cpp\n",
            "g++ -o concurrent_vector.o -c -MMD -O2 -g -DDO_ITT_NOTIFY -DUSE_PTHREAD -pthread -m64 -mrtm  -fPIC -flifetime-dse=1 -D__TBB_BUILD=1 -Wall -Wextra -Wno-parentheses -Wno-sized-deallocation -Wno-unknown-warning-option -Wno-deprecated-copy -Wno-missing-attributes -Wno-class-memaccess -Wno-sized-deallocation   -DTBB_SUPPRESS_DEPRECATED_MESSAGES=1 -std=c++1y  -I../tbb_2020.3/src -I../tbb_2020.3/src/rml/include -I../tbb_2020.3/include ../tbb_2020.3/src/tbb/concurrent_vector.cpp\n",
            "g++ -o dynamic_link.o -c -MMD -O2 -g -DDO_ITT_NOTIFY -DUSE_PTHREAD -pthread -m64 -mrtm  -fPIC -flifetime-dse=1 -D__TBB_BUILD=1 -Wall -Wextra -Wno-parentheses -Wno-sized-deallocation -Wno-unknown-warning-option -Wno-deprecated-copy -Wno-missing-attributes -Wno-class-memaccess -Wno-sized-deallocation   -DTBB_SUPPRESS_DEPRECATED_MESSAGES=1 -std=c++1y  -I../tbb_2020.3/src -I../tbb_2020.3/src/rml/include -I../tbb_2020.3/include ../tbb_2020.3/src/tbb/dynamic_link.cpp\n",
            "g++ -o itt_notify.o -c -MMD -O2 -g -DDO_ITT_NOTIFY -DUSE_PTHREAD -pthread -m64 -mrtm  -fPIC -flifetime-dse=1 -D__TBB_BUILD=1 -Wall -Wextra -Wno-parentheses -Wno-sized-deallocation -Wno-unknown-warning-option -Wno-deprecated-copy -Wno-missing-attributes -Wno-class-memaccess -Wno-sized-deallocation   -DTBB_SUPPRESS_DEPRECATED_MESSAGES=1 -std=c++1y  -I../tbb_2020.3/src -I../tbb_2020.3/src/rml/include -I../tbb_2020.3/include ../tbb_2020.3/src/tbb/itt_notify.cpp\n",
            "g++ -o cache_aligned_allocator.o -c -MMD -O2 -g -DDO_ITT_NOTIFY -DUSE_PTHREAD -pthread -m64 -mrtm  -fPIC -flifetime-dse=1 -D__TBB_BUILD=1 -Wall -Wextra -Wno-parentheses -Wno-sized-deallocation -Wno-unknown-warning-option -Wno-deprecated-copy -Wno-missing-attributes -Wno-class-memaccess -Wno-sized-deallocation   -DTBB_SUPPRESS_DEPRECATED_MESSAGES=1 -std=c++1y  -I../tbb_2020.3/src -I../tbb_2020.3/src/rml/include -I../tbb_2020.3/include ../tbb_2020.3/src/tbb/cache_aligned_allocator.cpp\n",
            "g++ -o pipeline.o -c -MMD -O2 -g -DDO_ITT_NOTIFY -DUSE_PTHREAD -pthread -m64 -mrtm  -fPIC -flifetime-dse=1 -D__TBB_BUILD=1 -Wall -Wextra -Wno-parentheses -Wno-sized-deallocation -Wno-unknown-warning-option -Wno-deprecated-copy -Wno-missing-attributes -Wno-class-memaccess -Wno-sized-deallocation   -DTBB_SUPPRESS_DEPRECATED_MESSAGES=1 -std=c++1y  -I../tbb_2020.3/src -I../tbb_2020.3/src/rml/include -I../tbb_2020.3/include ../tbb_2020.3/src/tbb/pipeline.cpp\n",
            "g++ -o queuing_mutex.o -c -MMD -O2 -g -DDO_ITT_NOTIFY -DUSE_PTHREAD -pthread -m64 -mrtm  -fPIC -flifetime-dse=1 -D__TBB_BUILD=1 -Wall -Wextra -Wno-parentheses -Wno-sized-deallocation -Wno-unknown-warning-option -Wno-deprecated-copy -Wno-missing-attributes -Wno-class-memaccess -Wno-sized-deallocation   -DTBB_SUPPRESS_DEPRECATED_MESSAGES=1 -std=c++1y  -I../tbb_2020.3/src -I../tbb_2020.3/src/rml/include -I../tbb_2020.3/include ../tbb_2020.3/src/tbb/queuing_mutex.cpp\n",
            "g++ -o queuing_rw_mutex.o -c -MMD -O2 -g -DDO_ITT_NOTIFY -DUSE_PTHREAD -pthread -m64 -mrtm  -fPIC -flifetime-dse=1 -D__TBB_BUILD=1 -Wall -Wextra -Wno-parentheses -Wno-sized-deallocation -Wno-unknown-warning-option -Wno-deprecated-copy -Wno-missing-attributes -Wno-class-memaccess -Wno-sized-deallocation   -DTBB_SUPPRESS_DEPRECATED_MESSAGES=1 -std=c++1y  -I../tbb_2020.3/src -I../tbb_2020.3/src/rml/include -I../tbb_2020.3/include ../tbb_2020.3/src/tbb/queuing_rw_mutex.cpp\n",
            "g++ -o reader_writer_lock.o -c -MMD -O2 -g -DDO_ITT_NOTIFY -DUSE_PTHREAD -pthread -m64 -mrtm  -fPIC -flifetime-dse=1 -D__TBB_BUILD=1 -Wall -Wextra -Wno-parentheses -Wno-sized-deallocation -Wno-unknown-warning-option -Wno-deprecated-copy -Wno-missing-attributes -Wno-class-memaccess -Wno-sized-deallocation   -DTBB_SUPPRESS_DEPRECATED_MESSAGES=1 -std=c++1y  -I../tbb_2020.3/src -I../tbb_2020.3/src/rml/include -I../tbb_2020.3/include ../tbb_2020.3/src/tbb/reader_writer_lock.cpp\n",
            "g++ -o spin_rw_mutex.o -c -MMD -O2 -g -DDO_ITT_NOTIFY -DUSE_PTHREAD -pthread -m64 -mrtm  -fPIC -flifetime-dse=1 -D__TBB_BUILD=1 -Wall -Wextra -Wno-parentheses -Wno-sized-deallocation -Wno-unknown-warning-option -Wno-deprecated-copy -Wno-missing-attributes -Wno-class-memaccess -Wno-sized-deallocation   -DTBB_SUPPRESS_DEPRECATED_MESSAGES=1 -std=c++1y  -I../tbb_2020.3/src -I../tbb_2020.3/src/rml/include -I../tbb_2020.3/include ../tbb_2020.3/src/tbb/spin_rw_mutex.cpp\n",
            "g++ -o x86_rtm_rw_mutex.o -c -MMD -O2 -g -DDO_ITT_NOTIFY -DUSE_PTHREAD -pthread -m64 -mrtm  -fPIC -flifetime-dse=1 -D__TBB_BUILD=1 -Wall -Wextra -Wno-parentheses -Wno-sized-deallocation -Wno-unknown-warning-option -Wno-deprecated-copy -Wno-missing-attributes -Wno-class-memaccess -Wno-sized-deallocation   -DTBB_SUPPRESS_DEPRECATED_MESSAGES=1 -std=c++1y  -I../tbb_2020.3/src -I../tbb_2020.3/src/rml/include -I../tbb_2020.3/include ../tbb_2020.3/src/tbb/x86_rtm_rw_mutex.cpp\n",
            "g++ -o spin_mutex.o -c -MMD -O2 -g -DDO_ITT_NOTIFY -DUSE_PTHREAD -pthread -m64 -mrtm  -fPIC -flifetime-dse=1 -D__TBB_BUILD=1 -Wall -Wextra -Wno-parentheses -Wno-sized-deallocation -Wno-unknown-warning-option -Wno-deprecated-copy -Wno-missing-attributes -Wno-class-memaccess -Wno-sized-deallocation   -DTBB_SUPPRESS_DEPRECATED_MESSAGES=1 -std=c++1y  -I../tbb_2020.3/src -I../tbb_2020.3/src/rml/include -I../tbb_2020.3/include ../tbb_2020.3/src/tbb/spin_mutex.cpp\n",
            "g++ -o critical_section.o -c -MMD -O2 -g -DDO_ITT_NOTIFY -DUSE_PTHREAD -pthread -m64 -mrtm  -fPIC -flifetime-dse=1 -D__TBB_BUILD=1 -Wall -Wextra -Wno-parentheses -Wno-sized-deallocation -Wno-unknown-warning-option -Wno-deprecated-copy -Wno-missing-attributes -Wno-class-memaccess -Wno-sized-deallocation   -DTBB_SUPPRESS_DEPRECATED_MESSAGES=1 -std=c++1y  -I../tbb_2020.3/src -I../tbb_2020.3/src/rml/include -I../tbb_2020.3/include ../tbb_2020.3/src/tbb/critical_section.cpp\n",
            "g++ -o mutex.o -c -MMD -O2 -g -DDO_ITT_NOTIFY -DUSE_PTHREAD -pthread -m64 -mrtm  -fPIC -flifetime-dse=1 -D__TBB_BUILD=1 -Wall -Wextra -Wno-parentheses -Wno-sized-deallocation -Wno-unknown-warning-option -Wno-deprecated-copy -Wno-missing-attributes -Wno-class-memaccess -Wno-sized-deallocation   -DTBB_SUPPRESS_DEPRECATED_MESSAGES=1 -std=c++1y  -I../tbb_2020.3/src -I../tbb_2020.3/src/rml/include -I../tbb_2020.3/include ../tbb_2020.3/src/tbb/mutex.cpp\n",
            "g++ -o recursive_mutex.o -c -MMD -O2 -g -DDO_ITT_NOTIFY -DUSE_PTHREAD -pthread -m64 -mrtm  -fPIC -flifetime-dse=1 -D__TBB_BUILD=1 -Wall -Wextra -Wno-parentheses -Wno-sized-deallocation -Wno-unknown-warning-option -Wno-deprecated-copy -Wno-missing-attributes -Wno-class-memaccess -Wno-sized-deallocation   -DTBB_SUPPRESS_DEPRECATED_MESSAGES=1 -std=c++1y  -I../tbb_2020.3/src -I../tbb_2020.3/src/rml/include -I../tbb_2020.3/include ../tbb_2020.3/src/tbb/recursive_mutex.cpp\n",
            "g++ -o condition_variable.o -c -MMD -O2 -g -DDO_ITT_NOTIFY -DUSE_PTHREAD -pthread -m64 -mrtm  -fPIC -flifetime-dse=1 -D__TBB_BUILD=1 -Wall -Wextra -Wno-parentheses -Wno-sized-deallocation -Wno-unknown-warning-option -Wno-deprecated-copy -Wno-missing-attributes -Wno-class-memaccess -Wno-sized-deallocation   -DTBB_SUPPRESS_DEPRECATED_MESSAGES=1 -std=c++1y  -I../tbb_2020.3/src -I../tbb_2020.3/src/rml/include -I../tbb_2020.3/include ../tbb_2020.3/src/tbb/condition_variable.cpp\n",
            "g++ -o tbb_thread.o -c -MMD -O2 -g -DDO_ITT_NOTIFY -DUSE_PTHREAD -pthread -m64 -mrtm  -fPIC -flifetime-dse=1 -D__TBB_BUILD=1 -Wall -Wextra -Wno-parentheses -Wno-sized-deallocation -Wno-unknown-warning-option -Wno-deprecated-copy -Wno-missing-attributes -Wno-class-memaccess -Wno-sized-deallocation   -DTBB_SUPPRESS_DEPRECATED_MESSAGES=1 -std=c++1y  -I../tbb_2020.3/src -I../tbb_2020.3/src/rml/include -I../tbb_2020.3/include ../tbb_2020.3/src/tbb/tbb_thread.cpp\n",
            "g++ -o concurrent_monitor.o -c -MMD -O2 -g -DDO_ITT_NOTIFY -DUSE_PTHREAD -pthread -m64 -mrtm  -fPIC -flifetime-dse=1 -D__TBB_BUILD=1 -Wall -Wextra -Wno-parentheses -Wno-sized-deallocation -Wno-unknown-warning-option -Wno-deprecated-copy -Wno-missing-attributes -Wno-class-memaccess -Wno-sized-deallocation   -DTBB_SUPPRESS_DEPRECATED_MESSAGES=1 -std=c++1y  -I../tbb_2020.3/src -I../tbb_2020.3/src/rml/include -I../tbb_2020.3/include ../tbb_2020.3/src/tbb/concurrent_monitor.cpp\n",
            "g++ -o semaphore.o -c -MMD -O2 -g -DDO_ITT_NOTIFY -DUSE_PTHREAD -pthread -m64 -mrtm  -fPIC -flifetime-dse=1 -D__TBB_BUILD=1 -Wall -Wextra -Wno-parentheses -Wno-sized-deallocation -Wno-unknown-warning-option -Wno-deprecated-copy -Wno-missing-attributes -Wno-class-memaccess -Wno-sized-deallocation   -DTBB_SUPPRESS_DEPRECATED_MESSAGES=1 -std=c++1y  -I../tbb_2020.3/src -I../tbb_2020.3/src/rml/include -I../tbb_2020.3/include ../tbb_2020.3/src/tbb/semaphore.cpp\n",
            "g++ -o private_server.o -c -MMD -O2 -g -DDO_ITT_NOTIFY -DUSE_PTHREAD -pthread -m64 -mrtm  -fPIC -flifetime-dse=1 -D__TBB_BUILD=1 -Wall -Wextra -Wno-parentheses -Wno-sized-deallocation -Wno-unknown-warning-option -Wno-deprecated-copy -Wno-missing-attributes -Wno-class-memaccess -Wno-sized-deallocation   -DTBB_SUPPRESS_DEPRECATED_MESSAGES=1 -std=c++1y  -I../tbb_2020.3/src -I../tbb_2020.3/src/rml/include -I../tbb_2020.3/include ../tbb_2020.3/src/tbb/private_server.cpp\n",
            "g++ -o rml_tbb.o -c -MMD -O2 -g -DDO_ITT_NOTIFY -DUSE_PTHREAD -pthread -m64 -mrtm  -fPIC -flifetime-dse=1 -D__TBB_BUILD=1 -Wall -Wextra -Wno-parentheses -Wno-sized-deallocation -Wno-unknown-warning-option -Wno-deprecated-copy -Wno-missing-attributes -Wno-class-memaccess -Wno-sized-deallocation   -DTBB_SUPPRESS_DEPRECATED_MESSAGES=1 -std=c++1y  -I../tbb_2020.3/src -I../tbb_2020.3/src/rml/include -I../tbb_2020.3/include ../tbb_2020.3/src/rml/client/rml_tbb.cpp\n",
            "g++ -o tbb_misc.o -c -MMD -O2 -g -DDO_ITT_NOTIFY -DUSE_PTHREAD -pthread -m64 -mrtm  -fPIC -flifetime-dse=1 -D__TBB_BUILD=1 -Wall -Wextra -Wno-parentheses -Wno-sized-deallocation -Wno-unknown-warning-option -Wno-deprecated-copy -Wno-missing-attributes -Wno-class-memaccess -Wno-sized-deallocation   -DTBB_SUPPRESS_DEPRECATED_MESSAGES=1 -std=c++1y  -I../tbb_2020.3/src -I../tbb_2020.3/src/rml/include -I../tbb_2020.3/include -I. ../tbb_2020.3/src/tbb/tbb_misc.cpp\n",
            "g++ -o tbb_misc_ex.o -c -MMD -O2 -g -DDO_ITT_NOTIFY -DUSE_PTHREAD -pthread -m64 -mrtm  -fPIC -flifetime-dse=1 -D__TBB_BUILD=1 -Wall -Wextra -Wno-parentheses -Wno-sized-deallocation -Wno-unknown-warning-option -Wno-deprecated-copy -Wno-missing-attributes -Wno-class-memaccess -Wno-sized-deallocation   -DTBB_SUPPRESS_DEPRECATED_MESSAGES=1 -std=c++1y  -I../tbb_2020.3/src -I../tbb_2020.3/src/rml/include -I../tbb_2020.3/include ../tbb_2020.3/src/tbb/tbb_misc_ex.cpp\n",
            "g++ -o task.o -c -MMD -O2 -g -DDO_ITT_NOTIFY -DUSE_PTHREAD -pthread -m64 -mrtm  -fPIC -flifetime-dse=1 -D__TBB_BUILD=1 -Wall -Wextra -Wno-parentheses -Wno-sized-deallocation -Wno-unknown-warning-option -Wno-deprecated-copy -Wno-missing-attributes -Wno-class-memaccess -Wno-sized-deallocation   -DTBB_SUPPRESS_DEPRECATED_MESSAGES=1 -std=c++1y  -I../tbb_2020.3/src -I../tbb_2020.3/src/rml/include -I../tbb_2020.3/include ../tbb_2020.3/src/tbb/task.cpp\n",
            "g++ -o task_group_context.o -c -MMD -O2 -g -DDO_ITT_NOTIFY -DUSE_PTHREAD -pthread -m64 -mrtm  -fPIC -flifetime-dse=1 -D__TBB_BUILD=1 -Wall -Wextra -Wno-parentheses -Wno-sized-deallocation -Wno-unknown-warning-option -Wno-deprecated-copy -Wno-missing-attributes -Wno-class-memaccess -Wno-sized-deallocation   -DTBB_SUPPRESS_DEPRECATED_MESSAGES=1 -std=c++1y  -I../tbb_2020.3/src -I../tbb_2020.3/src/rml/include -I../tbb_2020.3/include ../tbb_2020.3/src/tbb/task_group_context.cpp\n",
            "g++ -o governor.o -c -MMD -O2 -g -DDO_ITT_NOTIFY -DUSE_PTHREAD -pthread -m64 -mrtm  -fPIC -flifetime-dse=1 -D__TBB_BUILD=1 -Wall -Wextra -Wno-parentheses -Wno-sized-deallocation -Wno-unknown-warning-option -Wno-deprecated-copy -Wno-missing-attributes -Wno-class-memaccess -Wno-sized-deallocation   -DTBB_SUPPRESS_DEPRECATED_MESSAGES=1 -std=c++1y  -I../tbb_2020.3/src -I../tbb_2020.3/src/rml/include -I../tbb_2020.3/include ../tbb_2020.3/src/tbb/governor.cpp\n",
            "g++ -o market.o -c -MMD -O2 -g -DDO_ITT_NOTIFY -DUSE_PTHREAD -pthread -m64 -mrtm  -fPIC -flifetime-dse=1 -D__TBB_BUILD=1 -Wall -Wextra -Wno-parentheses -Wno-sized-deallocation -Wno-unknown-warning-option -Wno-deprecated-copy -Wno-missing-attributes -Wno-class-memaccess -Wno-sized-deallocation   -DTBB_SUPPRESS_DEPRECATED_MESSAGES=1 -std=c++1y  -I../tbb_2020.3/src -I../tbb_2020.3/src/rml/include -I../tbb_2020.3/include ../tbb_2020.3/src/tbb/market.cpp\n",
            "g++ -o arena.o -c -MMD -O2 -g -DDO_ITT_NOTIFY -DUSE_PTHREAD -pthread -m64 -mrtm  -fPIC -flifetime-dse=1 -D__TBB_BUILD=1 -Wall -Wextra -Wno-parentheses -Wno-sized-deallocation -Wno-unknown-warning-option -Wno-deprecated-copy -Wno-missing-attributes -Wno-class-memaccess -Wno-sized-deallocation   -DTBB_SUPPRESS_DEPRECATED_MESSAGES=1 -std=c++1y  -I../tbb_2020.3/src -I../tbb_2020.3/src/rml/include -I../tbb_2020.3/include ../tbb_2020.3/src/tbb/arena.cpp\n",
            "g++ -o scheduler.o -c -MMD -O2 -g -DDO_ITT_NOTIFY -DUSE_PTHREAD -pthread -m64 -mrtm  -fPIC -flifetime-dse=1 -D__TBB_BUILD=1 -Wall -Wextra -Wno-parentheses -Wno-sized-deallocation -Wno-unknown-warning-option -Wno-deprecated-copy -Wno-missing-attributes -Wno-class-memaccess -Wno-sized-deallocation   -DTBB_SUPPRESS_DEPRECATED_MESSAGES=1 -std=c++1y  -I../tbb_2020.3/src -I../tbb_2020.3/src/rml/include -I../tbb_2020.3/include ../tbb_2020.3/src/tbb/scheduler.cpp\n",
            "g++ -o observer_proxy.o -c -MMD -O2 -g -DDO_ITT_NOTIFY -DUSE_PTHREAD -pthread -m64 -mrtm  -fPIC -flifetime-dse=1 -D__TBB_BUILD=1 -Wall -Wextra -Wno-parentheses -Wno-sized-deallocation -Wno-unknown-warning-option -Wno-deprecated-copy -Wno-missing-attributes -Wno-class-memaccess -Wno-sized-deallocation   -DTBB_SUPPRESS_DEPRECATED_MESSAGES=1 -std=c++1y  -I../tbb_2020.3/src -I../tbb_2020.3/src/rml/include -I../tbb_2020.3/include ../tbb_2020.3/src/tbb/observer_proxy.cpp\n",
            "g++ -o tbb_statistics.o -c -MMD -O2 -g -DDO_ITT_NOTIFY -DUSE_PTHREAD -pthread -m64 -mrtm  -fPIC -flifetime-dse=1 -D__TBB_BUILD=1 -Wall -Wextra -Wno-parentheses -Wno-sized-deallocation -Wno-unknown-warning-option -Wno-deprecated-copy -Wno-missing-attributes -Wno-class-memaccess -Wno-sized-deallocation   -DTBB_SUPPRESS_DEPRECATED_MESSAGES=1 -std=c++1y  -I../tbb_2020.3/src -I../tbb_2020.3/src/rml/include -I../tbb_2020.3/include ../tbb_2020.3/src/tbb/tbb_statistics.cpp\n",
            "g++ -o tbb_main.o -c -MMD -O2 -g -DDO_ITT_NOTIFY -DUSE_PTHREAD -pthread -m64 -mrtm  -fPIC -flifetime-dse=1 -D__TBB_BUILD=1 -Wall -Wextra -Wno-parentheses -Wno-sized-deallocation -Wno-unknown-warning-option -Wno-deprecated-copy -Wno-missing-attributes -Wno-class-memaccess -Wno-sized-deallocation   -DTBB_SUPPRESS_DEPRECATED_MESSAGES=1 -std=c++1y  -I../tbb_2020.3/src -I../tbb_2020.3/src/rml/include -I../tbb_2020.3/include ../tbb_2020.3/src/tbb/tbb_main.cpp\n",
            "g++ -o concurrent_vector_v2.o -c -MMD -O2 -g -DDO_ITT_NOTIFY -DUSE_PTHREAD -pthread -m64 -mrtm  -fPIC -flifetime-dse=1 -D__TBB_BUILD=1 -Wall -Wextra -Wno-parentheses -Wno-sized-deallocation -Wno-unknown-warning-option -Wno-deprecated-copy -Wno-missing-attributes -Wno-class-memaccess -Wno-sized-deallocation   -DTBB_SUPPRESS_DEPRECATED_MESSAGES=1 -std=c++1y  -I../tbb_2020.3/src -I../tbb_2020.3/src/rml/include -I../tbb_2020.3/include ../tbb_2020.3/src/old/concurrent_vector_v2.cpp\n",
            "g++ -o concurrent_queue_v2.o -c -MMD -O2 -g -DDO_ITT_NOTIFY -DUSE_PTHREAD -pthread -m64 -mrtm  -fPIC -flifetime-dse=1 -D__TBB_BUILD=1 -Wall -Wextra -Wno-parentheses -Wno-sized-deallocation -Wno-unknown-warning-option -Wno-deprecated-copy -Wno-missing-attributes -Wno-class-memaccess -Wno-sized-deallocation   -DTBB_SUPPRESS_DEPRECATED_MESSAGES=1 -std=c++1y  -I../tbb_2020.3/src -I../tbb_2020.3/src/rml/include -I../tbb_2020.3/include ../tbb_2020.3/src/old/concurrent_queue_v2.cpp\n",
            "g++ -o spin_rw_mutex_v2.o -c -MMD -O2 -g -DDO_ITT_NOTIFY -DUSE_PTHREAD -pthread -m64 -mrtm  -fPIC -flifetime-dse=1 -D__TBB_BUILD=1 -Wall -Wextra -Wno-parentheses -Wno-sized-deallocation -Wno-unknown-warning-option -Wno-deprecated-copy -Wno-missing-attributes -Wno-class-memaccess -Wno-sized-deallocation   -DTBB_SUPPRESS_DEPRECATED_MESSAGES=1 -std=c++1y  -I../tbb_2020.3/src -I../tbb_2020.3/src/rml/include -I../tbb_2020.3/include ../tbb_2020.3/src/old/spin_rw_mutex_v2.cpp\n",
            "g++ -o task_v2.o -c -MMD -O2 -g -DDO_ITT_NOTIFY -DUSE_PTHREAD -pthread -m64 -mrtm  -fPIC -flifetime-dse=1 -D__TBB_BUILD=1 -Wall -Wextra -Wno-parentheses -Wno-sized-deallocation -Wno-unknown-warning-option -Wno-deprecated-copy -Wno-missing-attributes -Wno-class-memaccess -Wno-sized-deallocation   -DTBB_SUPPRESS_DEPRECATED_MESSAGES=1 -std=c++1y  -I../tbb_2020.3/src -I../tbb_2020.3/src/rml/include -I../tbb_2020.3/include ../tbb_2020.3/src/old/task_v2.cpp\n",
            "sh ../tbb_2020.3/build/generate_tbbvars.sh\n",
            "echo \"INPUT (libtbb.so.2)\" > libtbb.so\n",
            "g++ -E -x c++ ../tbb_2020.3/src/tbb/lin64-tbb-export.def -O2 -g -DDO_ITT_NOTIFY -DUSE_PTHREAD -pthread -m64 -mrtm  -fPIC -flifetime-dse=1 -D__TBB_BUILD=1 -Wall -Wextra -Wno-parentheses -Wno-sized-deallocation -Wno-unknown-warning-option -Wno-deprecated-copy -Wno-missing-attributes -Wno-class-memaccess -Wno-sized-deallocation   -DTBB_SUPPRESS_DEPRECATED_MESSAGES=1 -I../tbb_2020.3/src -I../tbb_2020.3/src/rml/include -I../tbb_2020.3/include > tbb.def\n",
            "g++ -fPIC -o libtbb.so.2 concurrent_hash_map.o concurrent_queue.o concurrent_vector.o dynamic_link.o itt_notify.o cache_aligned_allocator.o pipeline.o queuing_mutex.o queuing_rw_mutex.o reader_writer_lock.o spin_rw_mutex.o x86_rtm_rw_mutex.o spin_mutex.o critical_section.o mutex.o recursive_mutex.o condition_variable.o tbb_thread.o concurrent_monitor.o semaphore.o private_server.o rml_tbb.o tbb_misc.o tbb_misc_ex.o task.o task_group_context.o governor.o market.o arena.o scheduler.o observer_proxy.o tbb_statistics.o tbb_main.o concurrent_vector_v2.o concurrent_queue_v2.o spin_rw_mutex_v2.o task_v2.o   -ldl -lrt -shared -Wl,-soname=libtbb.so.2 -pthread -m64 -Wl,-L,\"/root/.cmdstan/cmdstan-2.29.1/stan/lib/stan_math/lib/tbb\" -Wl,-rpath,\"/root/.cmdstan/cmdstan-2.29.1/stan/lib/stan_math/lib/tbb\"   -Wl,--version-script,tbb.def\n",
            "make[1]: Leaving directory '/root/.cmdstan/cmdstan-2.29.1/stan/lib/stan_math/lib/tbb'\n",
            "\n",
            "--- CmdStan v2.29.1 built ---\n",
            "g++ -std=c++1y -pthread -D_REENTRANT -Wno-sign-compare -Wno-ignored-attributes      -I stan/lib/stan_math/lib/tbb_2020.3/include    -O3 -I src -I stan/src -I lib/rapidjson_1.1.0/ -I lib/CLI11-1.9.1/ -I stan/lib/stan_math/ -I stan/lib/stan_math/lib/eigen_3.3.9 -I stan/lib/stan_math/lib/boost_1.75.0 -I stan/lib/stan_math/lib/sundials_6.0.0/include -I stan/lib/stan_math/lib/sundials_6.0.0/src/sundials    -DBOOST_DISABLE_ASSERTS          -c -MT stan/src/stan/model/model_header.hpp.gch -MT stan/src/stan/model/model_header.d -MM -E -MG -MP -MF stan/src/stan/model/model_header.d stan/src/stan/model/model_header.hpp\n",
            "g++ -std=c++1y -pthread -D_REENTRANT -Wno-sign-compare -Wno-ignored-attributes      -I stan/lib/stan_math/lib/tbb_2020.3/include    -O3 -I src -I stan/src -I lib/rapidjson_1.1.0/ -I lib/CLI11-1.9.1/ -I stan/lib/stan_math/ -I stan/lib/stan_math/lib/eigen_3.3.9 -I stan/lib/stan_math/lib/boost_1.75.0 -I stan/lib/stan_math/lib/sundials_6.0.0/include -I stan/lib/stan_math/lib/sundials_6.0.0/src/sundials    -DBOOST_DISABLE_ASSERTS          -c -MT src/cmdstan/main.o -MM -E -MG -MP -MF src/cmdstan/main.d src/cmdstan/main.cpp\n",
            "\n",
            "--- Translating Stan model to C++ code ---\n",
            "bin/stanc  --o=examples/bernoulli/bernoulli.hpp examples/bernoulli/bernoulli.stan\n",
            "\n",
            "--- Compiling, linking C++ code ---\n",
            "g++ -std=c++1y -pthread -D_REENTRANT -Wno-sign-compare -Wno-ignored-attributes      -I stan/lib/stan_math/lib/tbb_2020.3/include    -O3 -I src -I stan/src -I lib/rapidjson_1.1.0/ -I lib/CLI11-1.9.1/ -I stan/lib/stan_math/ -I stan/lib/stan_math/lib/eigen_3.3.9 -I stan/lib/stan_math/lib/boost_1.75.0 -I stan/lib/stan_math/lib/sundials_6.0.0/include -I stan/lib/stan_math/lib/sundials_6.0.0/src/sundials    -DBOOST_DISABLE_ASSERTS          -c -Wno-ignored-attributes   -x c++ -o examples/bernoulli/bernoulli.o examples/bernoulli/bernoulli.hpp\n",
            "g++ -std=c++1y -pthread -D_REENTRANT -Wno-sign-compare -Wno-ignored-attributes      -I stan/lib/stan_math/lib/tbb_2020.3/include    -O3 -I src -I stan/src -I lib/rapidjson_1.1.0/ -I lib/CLI11-1.9.1/ -I stan/lib/stan_math/ -I stan/lib/stan_math/lib/eigen_3.3.9 -I stan/lib/stan_math/lib/boost_1.75.0 -I stan/lib/stan_math/lib/sundials_6.0.0/include -I stan/lib/stan_math/lib/sundials_6.0.0/src/sundials    -DBOOST_DISABLE_ASSERTS                -Wl,-L,\"/root/.cmdstan/cmdstan-2.29.1/stan/lib/stan_math/lib/tbb\" -Wl,-rpath,\"/root/.cmdstan/cmdstan-2.29.1/stan/lib/stan_math/lib/tbb\"      examples/bernoulli/bernoulli.o src/cmdstan/main.o        -Wl,-L,\"/root/.cmdstan/cmdstan-2.29.1/stan/lib/stan_math/lib/tbb\" -Wl,-rpath,\"/root/.cmdstan/cmdstan-2.29.1/stan/lib/stan_math/lib/tbb\"   stan/lib/stan_math/lib/sundials_6.0.0/lib/libsundials_nvecserial.a stan/lib/stan_math/lib/sundials_6.0.0/lib/libsundials_cvodes.a stan/lib/stan_math/lib/sundials_6.0.0/lib/libsundials_idas.a stan/lib/stan_math/lib/sundials_6.0.0/lib/libsundials_kinsol.a  stan/lib/stan_math/lib/tbb/libtbb.so.2 -o examples/bernoulli/bernoulli\n",
            "rm -f examples/bernoulli/bernoulli.o\n"
          ]
        },
        {
          "output_type": "stream",
          "name": "stderr",
          "text": [
            "* Finished installing CmdStan to /root/.cmdstan/cmdstan-2.29.1\n",
            "\n",
            "\n",
            "CmdStan path set to: /root/.cmdstan/cmdstan-2.29.1\n",
            "\n"
          ]
        }
      ]
    },
    {
      "cell_type": "code",
      "source": [
        "devtools::install_github(\"rmcelreath/rethinking\", forece=TRUE)"
      ],
      "metadata": {
        "id": "_2E8F5_Wd-C2",
        "outputId": "e4325c9b-89b9-4c5b-d27c-e96fc424888f",
        "colab": {
          "base_uri": "https://localhost:8080/",
          "height": 436
        }
      },
      "execution_count": 28,
      "outputs": [
        {
          "output_type": "stream",
          "name": "stderr",
          "text": [
            "Skipping install of 'rethinking' from a github remote, the SHA1 (783d111a) has not changed since last install.\n",
            "  Use `force = TRUE` to force installation\n",
            "\n"
          ]
        },
        {
          "output_type": "error",
          "ename": "ERROR",
          "evalue": "ignored",
          "traceback": [
            "\u001b[1m\u001b[33mError\u001b[39m in \u001b[1m\u001b[1m`action()`:\u001b[22m\n\u001b[1m\u001b[22m\u001b[33m!\u001b[39m `class` is absent but must be supplied.\nTraceback:\n",
            "1. devtools::install_github(\"rmcelreath/rethinking\", forece = TRUE)",
            "2. (function () \n . check_dots(env, error, action, call))()",
            "3. check_dots(env, error, action, call)",
            "4. action_dots(error = error, action = action, message = \"Arguments in `...` must be used.\", \n .     dots_i = unused, class = \"rlib_error_dots_unused\", call = call, \n .     env = env)",
            "5. try_dots(action(c(message, x = bullet_header, set_names(bullets, \n .     \"*\"), note), class = c(class, \"rlib_error_dots\"), ...))",
            "6. action(c(message, x = bullet_header, set_names(bullets, \"*\"), \n .     note), class = c(class, \"rlib_error_dots\"), ...)",
            "7. validate_signal_args(.subclass)",
            "8. check_required(class, call = env)",
            "9. abort(msg, call = call)",
            "10. signal_abort(cnd, .file)"
          ]
        }
      ]
    },
    {
      "cell_type": "code",
      "source": [
        "## R code 7.2\n",
        "d$mass_std <- (d$mass - mean(d$mass))/sd(d$mass)\n",
        "d$brain_std <- d$brain / max(d$brain)"
      ],
      "metadata": {
        "id": "RNtfwqNdcVz-"
      },
      "execution_count": 29,
      "outputs": []
    },
    {
      "cell_type": "code",
      "source": [
        "## R code 7.3\n",
        "m7_1 <- quap(\n",
        "    alist(\n",
        "        brain_std ~ dnorm( mu , exp(log_sigma) ),\n",
        "        mu <- a + b*mass_std,\n",
        "        a ~ dnorm( 0.5 , 1 ),\n",
        "        b ~ dnorm( 0 , 10 ),\n",
        "        log_sigma ~ dnorm( 0 , 1 )\n",
        "    ), data=d )"
      ],
      "metadata": {
        "id": "6jYk0SPwclHH",
        "outputId": "32090afa-0b1b-4d14-f5a5-1d69013fc091",
        "colab": {
          "base_uri": "https://localhost:8080/",
          "height": 96
        }
      },
      "execution_count": 30,
      "outputs": [
        {
          "output_type": "error",
          "ename": "ERROR",
          "evalue": "ignored",
          "traceback": [
            "Error in quap(alist(brain_std ~ dnorm(mu, exp(log_sigma)), mu <- a + b * : could not find function \"quap\"\nTraceback:\n"
          ]
        }
      ]
    },
    {
      "cell_type": "code",
      "source": [
        "\n",
        "\n",
        "## R code 7.4\n",
        "m7.1_OLS <- lm( brain_std ~ mass_std , data=d )\n",
        "post <- extract.samples( m7.1_OLS )\n",
        "\n",
        "## R code 7.5\n",
        "set.seed(12)\n",
        "s <- sim( m7.1 )\n",
        "r <- apply(s,2,mean) - d$brain_std\n",
        "resid_var <- var2(r)\n",
        "outcome_var <- var2( d$brain_std )\n",
        "1 - resid_var/outcome_var\n",
        "\n",
        "## R code 7.6\n",
        "R2_is_bad <- function( quap_fit ) {\n",
        "    s <- sim( quap_fit , refresh=0 )\n",
        "    r <- apply(s,2,mean) - d$brain_std\n",
        "    1 - var2(r)/var2(d$brain_std)\n",
        "}\n",
        "\n",
        "## R code 7.7\n",
        "m7.2 <- quap(\n",
        "    alist(\n",
        "        brain_std ~ dnorm( mu , exp(log_sigma) ),\n",
        "        mu <- a + b[1]*mass_std + b[2]*mass_std^2,\n",
        "        a ~ dnorm( 0.5 , 1 ),\n",
        "        b ~ dnorm( 0 , 10 ),\n",
        "        log_sigma ~ dnorm( 0 , 1 )\n",
        "    ), data=d , start=list(b=rep(0,2)) )\n",
        "\n",
        "## R code 7.8\n",
        "m7.3 <- quap(\n",
        "    alist(\n",
        "        brain_std ~ dnorm( mu , exp(log_sigma) ),\n",
        "        mu <- a + b[1]*mass_std + b[2]*mass_std^2 +\n",
        "                  b[3]*mass_std^3,\n",
        "        a ~ dnorm( 0.5 , 1 ),\n",
        "        b ~ dnorm( 0 , 10 ),\n",
        "        log_sigma ~ dnorm( 0 , 1 )\n",
        "    ), data=d , start=list(b=rep(0,3)) )\n",
        "\n",
        "m7.4 <- quap(\n",
        "    alist(\n",
        "        brain_std ~ dnorm( mu , exp(log_sigma) ),\n",
        "        mu <- a + b[1]*mass_std + b[2]*mass_std^2 +\n",
        "                  b[3]*mass_std^3 + b[4]*mass_std^4,\n",
        "        a ~ dnorm( 0.5 , 1 ),\n",
        "        b ~ dnorm( 0 , 10 ),\n",
        "        log_sigma ~ dnorm( 0 , 1 )\n",
        "    ), data=d , start=list(b=rep(0,4)) )\n",
        "\n",
        "m7.5 <- quap(\n",
        "    alist(\n",
        "        brain_std ~ dnorm( mu , exp(log_sigma) ),\n",
        "        mu <- a + b[1]*mass_std + b[2]*mass_std^2 +\n",
        "                  b[3]*mass_std^3 + b[4]*mass_std^4 +\n",
        "                  b[5]*mass_std^5,\n",
        "        a ~ dnorm( 0.5 , 1 ),\n",
        "        b ~ dnorm( 0 , 10 ),\n",
        "        log_sigma ~ dnorm( 0 , 1 )\n",
        "    ), data=d , start=list(b=rep(0,5)) )\n",
        "\n",
        "## R code 7.9\n",
        "m7.6 <- quap(\n",
        "    alist(\n",
        "        brain_std ~ dnorm( mu , 0.001 ),\n",
        "        mu <- a + b[1]*mass_std + b[2]*mass_std^2 +\n",
        "                  b[3]*mass_std^3 + b[4]*mass_std^4 +\n",
        "                  b[5]*mass_std^5 + b[6]*mass_std^6,\n",
        "        a ~ dnorm( 0.5 , 1 ),\n",
        "        b ~ dnorm( 0 , 10 )\n",
        "    ), data=d , start=list(b=rep(0,6)) )\n",
        "\n",
        "## R code 7.10\n",
        "post <- extract.samples(m7.1)\n",
        "mass_seq <- seq( from=min(d$mass_std) , to=max(d$mass_std) , length.out=100 )\n",
        "l <- link( m7.1 , data=list( mass_std=mass_seq ) )\n",
        "mu <- apply( l , 2 , mean )\n",
        "ci <- apply( l , 2 , PI )\n",
        "plot( brain_std ~ mass_std , data=d )\n",
        "lines( mass_seq , mu )\n",
        "shade( ci , mass_seq )\n",
        "\n",
        "## R code 7.11\n",
        "d_minus_i <- d[ -i , ]\n",
        "\n",
        "## R code 7.12\n",
        "p <- c( 0.3 , 0.7 )\n",
        "-sum( p*log(p) )\n",
        "\n",
        "## R code 7.13\n",
        "set.seed(1)\n",
        "lppd( m7.1 , n=1e4 )\n",
        "\n",
        "## R code 7.14\n",
        "set.seed(1)\n",
        "logprob <- sim( m7.1 , ll=TRUE , n=1e4 )\n",
        "n <- ncol(logprob)\n",
        "ns <- nrow(logprob)\n",
        "f <- function( i ) log_sum_exp( logprob[,i] ) - log(ns)\n",
        "( lppd <- sapply( 1:n , f ) )\n",
        "\n",
        "## R code 7.15\n",
        "set.seed(1)\n",
        "sapply( list(m7.1,m7.2,m7.3,m7.4,m7.5,m7.6) , function(m) sum(lppd(m)) )\n",
        "\n",
        "## R code 7.16\n",
        "N <- 20\n",
        "kseq <- 1:5\n",
        "dev <- sapply( kseq , function(k) {\n",
        "        print(k);\n",
        "        r <- replicate( 1e4 , sim_train_test( N=N, k=k ) );\n",
        "        c( mean(r[1,]) , mean(r[2,]) , sd(r[1,]) , sd(r[2,]) )\n",
        "    } )\n",
        "\n",
        "## R code 7.17\n",
        "        r <- mcreplicate( 1e4 , sim_train_test( N=N, k=k ) , mc.cores=4 )\n",
        "\n",
        "## R code 7.18\n",
        "plot( 1:5 , dev[1,] , ylim=c( min(dev[1:2,])-5 , max(dev[1:2,])+10 ) ,\n",
        "    xlim=c(1,5.1) , xlab=\"number of parameters\" , ylab=\"deviance\" ,\n",
        "    pch=16 , col=rangi2 )\n",
        "mtext( concat( \"N = \",N ) )\n",
        "points( (1:5)+0.1 , dev[2,] )\n",
        "for ( i in kseq ) {\n",
        "    pts_in <- dev[1,i] + c(-1,+1)*dev[3,i]\n",
        "    pts_out <- dev[2,i] + c(-1,+1)*dev[4,i]\n",
        "    lines( c(i,i) , pts_in , col=rangi2 )\n",
        "    lines( c(i,i)+0.1 , pts_out )\n",
        "}\n",
        "\n",
        "## R code 7.19\n",
        "data(cars)\n",
        "m <- quap(\n",
        "    alist(\n",
        "        dist ~ dnorm(mu,sigma),\n",
        "        mu <- a + b*speed,\n",
        "        a ~ dnorm(0,100),\n",
        "        b ~ dnorm(0,10),\n",
        "        sigma ~ dexp(1)\n",
        "    ) , data=cars )\n",
        "set.seed(94)\n",
        "post <- extract.samples(m,n=1000)\n",
        "\n",
        "## R code 7.20\n",
        "n_samples <- 1000\n",
        "logprob <- sapply( 1:n_samples ,\n",
        "    function(s) {\n",
        "        mu <- post$a[s] + post$b[s]*cars$speed\n",
        "        dnorm( cars$dist , mu , post$sigma[s] , log=TRUE )\n",
        "    } )\n",
        "\n",
        "## R code 7.21\n",
        "n_cases <- nrow(cars)\n",
        "lppd <- sapply( 1:n_cases , function(i) log_sum_exp(logprob[i,]) - log(n_samples) )\n",
        "\n",
        "## R code 7.22\n",
        "pWAIC <- sapply( 1:n_cases , function(i) var(logprob[i,]) )\n",
        "\n",
        "## R code 7.23\n",
        "-2*( sum(lppd) - sum(pWAIC) )\n",
        "\n",
        "## R code 7.24\n",
        "waic_vec <- -2*( lppd - pWAIC )\n",
        "sqrt( n_cases*var(waic_vec) )\n",
        "\n",
        "## R code 7.25\n",
        "set.seed(11)\n",
        "WAIC( m6.7 )\n",
        "\n",
        "## R code 7.26\n",
        "set.seed(77)\n",
        "compare( m6.6 , m6.7 , m6.8 , func=WAIC )\n",
        "\n",
        "## R code 7.27\n",
        "set.seed(91)\n",
        "waic_m6.7 <- WAIC( m6.7 , pointwise=TRUE )$WAIC\n",
        "waic_m6.8 <- WAIC( m6.8 , pointwise=TRUE )$WAIC\n",
        "n <- length(waic_m6.7)\n",
        "diff_m6.7_m6.8 <- waic_m6.7 - waic_m6.8\n",
        "sqrt( n*var( diff_m6.7_m6.8 ) )\n",
        "\n",
        "## R code 7.28\n",
        "40.0 + c(-1,1)*10.4*2.6\n",
        "\n",
        "## R code 7.29\n",
        "plot( compare( m6.6 , m6.7 , m6.8 ) )\n",
        "\n",
        "## R code 7.30\n",
        "set.seed(92)\n",
        "waic_m6.6 <- WAIC( m6.6 , pointwise=TRUE )$WAIC\n",
        "diff_m6.6_m6.8 <- waic_m6.6 - waic_m6.8\n",
        "sqrt( n*var( diff_m6.6_m6.8 ) )\n",
        "\n",
        "## R code 7.31\n",
        "set.seed(93)\n",
        "compare( m6.6 , m6.7 , m6.8 )@dSE\n",
        "\n",
        "## R code 7.32\n",
        "library(rethinking)\n",
        "data(WaffleDivorce)\n",
        "d <- WaffleDivorce\n",
        "d$A <- standardize( d$MedianAgeMarriage )\n",
        "d$D <- standardize( d$Divorce )\n",
        "d$M <- standardize( d$Marriage )\n",
        "\n",
        "m5.1 <- quap(\n",
        "    alist(\n",
        "        D ~ dnorm( mu , sigma ) ,\n",
        "        mu <- a + bA * A ,\n",
        "        a ~ dnorm( 0 , 0.2 ) ,\n",
        "        bA ~ dnorm( 0 , 0.5 ) ,\n",
        "        sigma ~ dexp( 1 )\n",
        "    ) , data = d )\n",
        "\n",
        "m5.2 <- quap(\n",
        "    alist(\n",
        "        D ~ dnorm( mu , sigma ) ,\n",
        "        mu <- a + bM * M ,\n",
        "        a ~ dnorm( 0 , 0.2 ) ,\n",
        "        bM ~ dnorm( 0 , 0.5 ) ,\n",
        "        sigma ~ dexp( 1 )\n",
        "    ) , data = d )\n",
        "\n",
        "m5.3 <- quap(\n",
        "    alist(\n",
        "        D ~ dnorm( mu , sigma ) ,\n",
        "        mu <- a + bM*M + bA*A ,\n",
        "        a ~ dnorm( 0 , 0.2 ) ,\n",
        "        bM ~ dnorm( 0 , 0.5 ) ,\n",
        "        bA ~ dnorm( 0 , 0.5 ) ,\n",
        "        sigma ~ dexp( 1 )\n",
        "    ) , data = d )\n",
        "\n",
        "## R code 7.33\n",
        "set.seed(24071847)\n",
        "compare( m5.1 , m5.2 , m5.3 , func=PSIS )\n",
        "\n",
        "## R code 7.34\n",
        "set.seed(24071847)\n",
        "PSIS_m5.3 <- PSIS(m5.3,pointwise=TRUE)\n",
        "set.seed(24071847)\n",
        "WAIC_m5.3 <- WAIC(m5.3,pointwise=TRUE)\n",
        "plot( PSIS_m5.3$k , WAIC_m5.3$penalty , xlab=\"PSIS Pareto k\" ,\n",
        "    ylab=\"WAIC penalty\" , col=rangi2 , lwd=2 )\n",
        "\n",
        "## R code 7.35\n",
        "m5.3t <- quap(\n",
        "    alist(\n",
        "        D ~ dstudent( 2 , mu , sigma ) ,\n",
        "        mu <- a + bM*M + bA*A ,\n",
        "        a ~ dnorm( 0 , 0.2 ) ,\n",
        "        bM ~ dnorm( 0 , 0.5 ) ,\n",
        "        bA ~ dnorm( 0 , 0.5 ) ,\n",
        "        sigma ~ dexp( 1 )\n",
        "    ) , data = d )\n"
      ],
      "metadata": {
        "id": "a5pR4reWcrQS"
      },
      "execution_count": null,
      "outputs": []
    }
  ]
}